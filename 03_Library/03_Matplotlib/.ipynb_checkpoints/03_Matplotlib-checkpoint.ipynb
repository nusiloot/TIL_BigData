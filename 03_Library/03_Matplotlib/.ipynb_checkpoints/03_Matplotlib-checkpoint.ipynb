{
 "cells": [
  {
   "cell_type": "markdown",
   "metadata": {},
   "source": [
    "# 3. 다양한 그래프 그리기 & 그래프 저장하기"
   ]
  },
  {
   "cell_type": "markdown",
   "metadata": {},
   "source": [
    "## (1) 산점도\n",
    "\n",
    "- 산점도(scatter 그래프)는 두 개의 요소로 이뤄진 데이터 집합의 관계를 그림으로 표현하는 것\n",
    "- 산점도는 x와 y 사이의 관계를 나타내는 것이기 때문에 x, y는 필수적으로 있어야 함\n",
    "\n",
    "```python\n",
    "plt.scatter(x, y [,s=size_n, c=colors, marker='marker_string', alpha=alpha_f])\n",
    "```"
   ]
  },
  {
   "cell_type": "code",
   "execution_count": null,
   "metadata": {},
   "outputs": [],
   "source": [
    "import matplotlib.pyplot as plt"
   ]
  },
  {
   "cell_type": "code",
   "execution_count": null,
   "metadata": {},
   "outputs": [],
   "source": [
    "height = [178, 165, 188, 160, 187, 186, 165]\n",
    "weight = [72, 67, 65, 64, 90, 85, 53]"
   ]
  },
  {
   "cell_type": "code",
   "execution_count": null,
   "metadata": {},
   "outputs": [],
   "source": [
    "plt.scatter(height, weight)\n",
    "plt.xlabel('Height[m]')\n",
    "plt.ylabel('Weight[kg]')\n",
    "plt.title('Height & Weight')\n",
    "plt.grid(True)"
   ]
  },
  {
   "cell_type": "code",
   "execution_count": null,
   "metadata": {},
   "outputs": [],
   "source": [
    "plt.scatter(height, weight, s=100, c='r')\n",
    "plt.show()"
   ]
  },
  {
   "cell_type": "code",
   "execution_count": null,
   "metadata": {},
   "outputs": [],
   "source": [
    "plt.scatter(height, weight, s=30, c='g', marker='x')\n",
    "plt.show()"
   ]
  },
  {
   "cell_type": "code",
   "execution_count": null,
   "metadata": {},
   "outputs": [],
   "source": [
    "import numpy as np"
   ]
  },
  {
   "cell_type": "code",
   "execution_count": null,
   "metadata": {},
   "outputs": [],
   "source": [
    "size = 100 * np.arange(1, 8)  # 데이터별로 마커의 크기 지정\n",
    "colors = ['r', 'g', 'b', 'c', 'm', 'k', 'y']  # 데이터별로 마커의 컬러 지정\n",
    "\n",
    "plt.scatter(height, weight, s=size, c=colors)\n",
    "plt.show()"
   ]
  },
  {
   "cell_type": "code",
   "execution_count": null,
   "metadata": {},
   "outputs": [],
   "source": [
    "# 도시(city)\n",
    "city = ['서울', '인천', '대전', '대구', '울산', '부산']\n",
    "\n",
    "# 위도(latitude)와 경도(longitude)\n",
    "lat = [37.56, 37.45, 36.35, 35.87, 35.53, 35.18]\n",
    "lon = [126.97, 126.70, 127.38, 128.60, 129.31, 129.07]"
   ]
  },
  {
   "cell_type": "code",
   "execution_count": null,
   "metadata": {},
   "outputs": [],
   "source": [
    "# 인구 밀도(명/km^2) : 2017년 통계청 자료\n",
    "pop_den = [16154, 2751, 2837, 2790, 1099, 4454]"
   ]
  },
  {
   "cell_type": "code",
   "execution_count": null,
   "metadata": {},
   "outputs": [],
   "source": [
    "size = np.array(pop_den) * 0.2  # 마커의 크기 지정\n",
    "colors = ['r', 'g', 'b', 'c', 'm', 'k']  # 마커의 컬러 지정"
   ]
  },
  {
   "cell_type": "code",
   "execution_count": null,
   "metadata": {},
   "outputs": [],
   "source": [
    "import matplotlib\n",
    "matplotlib.rcParams['font.family'] = 'Malgun Gothic'  # 한글 폰트 사용"
   ]
  },
  {
   "cell_type": "code",
   "execution_count": null,
   "metadata": {},
   "outputs": [],
   "source": [
    "plt.scatter(lon, lat, s=size, c=colors, alpha=0.5)\n",
    "plt.xlabel('경도(longitude)')\n",
    "plt.ylabel('위도(latitude)')\n",
    "plt.title('지역별 인구 밀도(2017)')\n",
    "\n",
    "for x, y, name in zip(lon, lat, city):\n",
    "    plt.text(x, y, name)  # 위도 경도에 맞게 도시 이름 출력\n",
    "\n",
    "plt.show()"
   ]
  },
  {
   "cell_type": "markdown",
   "metadata": {},
   "source": [
    "## (2) 막대그래프\n",
    "\n",
    "- 막대 그래프 사용 : 하나의 변수의 속성값들 혹은 여러 변수들의 값을 비교하기 위해 막대그래프를 사용\n",
    "- 값을 막대의 높이로 나타내어 여러 항목의 수량 비교에 탁월함\n",
    "\n",
    "```python\n",
    "plt.bar(x, height [,width=width_f, color=colors, tick_label=tick_labels, align='center'(기본) 혹은 'edge', label=labels]) # 여기서 height는 막대 그래프 이름\n",
    "```\n",
    "\n",
    "- 막대그래프의 옵션\n",
    "<table>\n",
    "    <thead>\n",
    "        <tr>\n",
    "            <td><center><b>옵션</b></center></td>\n",
    "            <td><center><b>내용</b></center></td>\n",
    "        </tr>\n",
    "    </thead>\n",
    "    <tbody>\n",
    "        <tr>\n",
    "            <td><center>width</center></td>\n",
    "            <td><center>막대의 폭 조절, 입력하지 않으면 기본값인 0.8 입력</center></td>\n",
    "        </tr>\n",
    "        <tr>\n",
    "            <td><center>color</center></td>\n",
    "            <td><center>fmt 옵션의 컬러 지정 약어를 이용해 막대 그래프의 색 지정</center></td>\n",
    "        </tr>\n",
    "        <tr>\n",
    "            <td><center>tick_label</center></td>\n",
    "            <td><center>문자열 혹은 문자열 리스트를 입력해 막대 그래프 각각의 이름 지정, 지정하지 않으면 기본적으로 숫자로 라벨 지정</center></td>\n",
    "        </tr>\n",
    "        <tr>\n",
    "            <td><center>align</center></td>\n",
    "            <td><center>막대 그래프 위치를 가운데(center)로 할지 한쪽으로(edge) 치우치게 할지 설정, 기본은 center</center></td>\n",
    "        </tr>\n",
    "        <tr>\n",
    "            <td><center>label</center></td>\n",
    "            <td><center>범례에 사용될 문자열 지정</center></td>\n",
    "        </tr>\n",
    "        <tr>\n",
    "            <td><center>barh</center></td>\n",
    "            <td><center>가로 막대 그래프를 그리는 방법, width 옵션 이용 불가</center></td>\n",
    "        </tr>\n",
    "    </tbody>\n",
    "</table>"
   ]
  },
  {
   "cell_type": "code",
   "execution_count": null,
   "metadata": {},
   "outputs": [],
   "source": [
    "member_IDs = ['m1', 'm2', 'm3', 'm4']  # 회원 ID\n",
    "before_ex = [45, 35, 42, 38]  # 운동 시작 전 팔굽혀펴기 횟수\n",
    "after_ex = [49, 42, 49, 37]  # 운동 한 달 후 팔굽혀펴기 횟수"
   ]
  },
  {
   "cell_type": "code",
   "execution_count": null,
   "metadata": {},
   "outputs": [],
   "source": [
    "n_data = len(member_IDs)  # 회원이 네 명이므로 전체 데이터 수는 4\n",
    "index = np.arange(n_data)  # Numpy를 이용해 배열 생성 [0, 1, 2, 3]\n",
    "plt.bar(index, before_ex)  # bar(x, height)에서 x=index, height = before_ex 로 지정\n",
    "plt.show()"
   ]
  },
  {
   "cell_type": "code",
   "execution_count": null,
   "metadata": {},
   "outputs": [],
   "source": [
    "plt.bar(index, before_ex, tick_label = member_IDs)\n",
    "plt.show()"
   ]
  },
  {
   "cell_type": "code",
   "execution_count": null,
   "metadata": {},
   "outputs": [],
   "source": [
    "colors = ['r', 'g', 'b', 'm']\n",
    "plt.bar(index, before_ex, color=colors, tick_label=member_IDs)\n",
    "plt.show()"
   ]
  },
  {
   "cell_type": "code",
   "execution_count": null,
   "metadata": {},
   "outputs": [],
   "source": [
    "plt.bar(index, before_ex, color=colors, tick_label=member_IDs, width=0.5)\n",
    "plt.show()"
   ]
  },
  {
   "cell_type": "code",
   "execution_count": null,
   "metadata": {},
   "outputs": [],
   "source": [
    "plt.barh(index, before_ex, color=colors, tick_label=member_IDs)\n",
    "plt.show()"
   ]
  },
  {
   "cell_type": "code",
   "execution_count": null,
   "metadata": {},
   "outputs": [],
   "source": [
    "bar_width = 0.4\n",
    "plt.bar(index, before_ex, color='c', align='edge', width=bar_width, label='before')\n",
    "plt.bar(index + bar_width, after_ex, color='m', align='edge', width=bar_width, label='after')\n",
    "plt.show()"
   ]
  },
  {
   "cell_type": "code",
   "execution_count": null,
   "metadata": {},
   "outputs": [],
   "source": [
    "bar_width = 0.4\n",
    "plt.bar(index, before_ex, color='c', align='edge', width=bar_width, label='before')\n",
    "plt.bar(index + bar_width, after_ex, color='m', align='edge', width=bar_width, label='after')\n",
    "\n",
    "plt.xticks(index + bar_width, member_IDs)\n",
    "plt.legend()\n",
    "plt.xlabel('회원 ID')\n",
    "plt.ylabel('윗몸일으키기 횟수')\n",
    "plt.title('운동 시작 전과 후의 근지구력(복근) 변화 비교')\n",
    "plt.show()"
   ]
  },
  {
   "cell_type": "markdown",
   "metadata": {},
   "source": [
    "## (3) 히스토그램\n",
    "\n",
    "- 막대그래프는 범주형 데이터의 분포 파악하는데 용이하고, 히스토그램은 연속형 데이터의 분포를 파악하는데 용이하다.\n",
    "- 데이터의 분포를 파악할 때 주로 사용\n",
    "\n",
    "```python\n",
    "plt.hist(x, [,bins = bins_n 혹은 'auto'])  # x = 변량 데이터, bin = 계급의 개수로 기본 10, auto의 경우 x에 맞게 자동으로 입력\n",
    "```"
   ]
  },
  {
   "cell_type": "code",
   "execution_count": null,
   "metadata": {},
   "outputs": [],
   "source": [
    "score = [76, 80, 90, 91, 86, 81, 82, 83, 77, 100, 86, 79, 67, 99, 94, 92, 86, 88, 82, 78, 79, 95, 73, 74]\n",
    "plt.hist(score)"
   ]
  },
  {
   "cell_type": "code",
   "execution_count": null,
   "metadata": {},
   "outputs": [],
   "source": [
    "plt.hist(score, bins=8)\n",
    "plt.show()"
   ]
  },
  {
   "cell_type": "code",
   "execution_count": null,
   "metadata": {},
   "outputs": [],
   "source": [
    "plt.hist(score, bins=8)\n",
    "plt.grid()\n",
    "plt.show()"
   ]
  },
  {
   "cell_type": "markdown",
   "metadata": {},
   "source": [
    "## (4) 파이그래프\n",
    "\n",
    "- 전체 데이터에서 각 항목이 차지하는 비율을 비교할 때 활용\n",
    "\n",
    "```python\n",
    "plt.pie(x [,label=label_seq, autopct='비율 표시 형식(ex:%.1f%)', shadow=False(기본) 혹은 True, explode=explode_seq, counterclock=True(기본) 혹은 False, startangle=각도(기본은 0)])\n",
    "```\n",
    "\n",
    "- 파이그래프의 옵션\n",
    "<table>\n",
    "    <thead>\n",
    "        <tr>\n",
    "            <td><center><b>옵션</b></center></td>\n",
    "            <td><center><b>내용</b></center></td>\n",
    "        </tr>\n",
    "    </thead>\n",
    "    <tbody>\n",
    "        <tr>\n",
    "            <td><center>labels</center></td>\n",
    "            <td><center>x 데이터 항목의 수와 같은 문자열 시퀀스(리스트, 튜플)를 지정해 파이그래프의 각 부채꼴 부분에 문자열을 표시</center></td>\n",
    "        </tr>\n",
    "        <tr>\n",
    "            <td><center>autopct</center></td>\n",
    "            <td><center>각 부채꼴 부분에 항목의 비율이 표시되는 수자의 형식 지정</center></td>\n",
    "        </tr>\n",
    "        <tr>\n",
    "            <td><center>shadow</center></td>\n",
    "            <td><center>그림자 효과 지정, 기본값은 효과를 지정하지 않는 것</center></td>\n",
    "        </tr>\n",
    "        <tr>\n",
    "            <td><center>explode</center></td>\n",
    "            <td><center>부채꼴 부분이 원에서 돌출되는 효과를 주어 특정 부채꼴 부분을 강조</center></td>\n",
    "        </tr>\n",
    "        <tr>\n",
    "            <td><center>counterclock</center></td>\n",
    "            <td><center>x 데이터에서 부채꼴 부분이 그려지는 순서가 반시계방향(True)인지 시계방향(False)인지를 지정, 기본값은 True</center></td>\n",
    "        </tr>\n",
    "        <tr>\n",
    "            <td><center>startangle</center></td>\n",
    "            <td><center>제일 처음 부채꼴 부분이 그려지는 각도로 x축을 중심으로 반시계방향으로 증가, 기본값은 0</center></td>\n",
    "        </tr>\n",
    "    </tbody>\n",
    "</table>"
   ]
  },
  {
   "cell_type": "code",
   "execution_count": null,
   "metadata": {},
   "outputs": [],
   "source": [
    "fruit = ['사과', '바나나', '딸기', '오렌지', '포도']\n",
    "result = [6, 7, 4, 2, 1]"
   ]
  },
  {
   "cell_type": "code",
   "execution_count": null,
   "metadata": {},
   "outputs": [],
   "source": [
    "plt.pie(result)\n",
    "plt.show()"
   ]
  },
  {
   "cell_type": "code",
   "execution_count": null,
   "metadata": {},
   "outputs": [],
   "source": [
    "plt.figure(figsize=(5, 5))\n",
    "plt.pie(result)\n",
    "plt.show()"
   ]
  },
  {
   "cell_type": "code",
   "execution_count": null,
   "metadata": {},
   "outputs": [],
   "source": [
    "plt.figure(figsize=(5, 5))\n",
    "plt.pie(result, labels=fruit, autopct='%.1f%%')\n",
    "plt.show()"
   ]
  },
  {
   "cell_type": "code",
   "execution_count": null,
   "metadata": {},
   "outputs": [],
   "source": [
    "plt.figure(figsize=(5, 5))\n",
    "plt.pie(result, labels=fruit, autopct='%.1f%%', startangle=90, counterclock=False)\n",
    "plt.show()"
   ]
  },
  {
   "cell_type": "code",
   "execution_count": null,
   "metadata": {},
   "outputs": [],
   "source": [
    "explode_value = (0.2, 0, 0, 0, 0)\n",
    "\n",
    "plt.figure(figsize=(5, 5))\n",
    "plt.pie(result, labels=fruit, autopct='%.1f%%', startangle=90, counterclock=False, explode=explode_value, shadow=True)\n",
    "plt.show()"
   ]
  },
  {
   "cell_type": "markdown",
   "metadata": {},
   "source": [
    "## (5) 그래프 저장하기\n",
    "\n",
    "- 그래프를 이미지 파일로 저장하여 다른 자료에서 활용 가능\n",
    "\n",
    "```python\n",
    "plt.savefig(file_name [,dpi=dpi_n(기본은 72)])\n",
    "```"
   ]
  },
  {
   "cell_type": "code",
   "execution_count": null,
   "metadata": {},
   "outputs": [],
   "source": [
    "import matplotlib as mpl\n",
    "print(mpl.rcParams['figure.figsize'])  # 기본 그래프 사이즈\n",
    "print(mpl.rcParams['figure.dpi'])  # 기본 그래프 dpi"
   ]
  },
  {
   "cell_type": "code",
   "execution_count": null,
   "metadata": {},
   "outputs": [],
   "source": [
    "x = np.arange(0, 10, 1)\n",
    "y1 = x\n",
    "y2 = x + 1\n",
    "y3 = x + 2\n",
    "y4 = x + 3"
   ]
  },
  {
   "cell_type": "code",
   "execution_count": null,
   "metadata": {},
   "outputs": [],
   "source": [
    "plt.plot(x, y1, x, y2, x, y3, x, y4)\n",
    "plt.grid(True)\n",
    "plt.xlabel('x')\n",
    "plt.ylabel('y')\n",
    "plt.title('Savefig graph')\n",
    "plt.savefig('./saveFigure1.png', dpi=100)\n",
    "plt.show()"
   ]
  },
  {
   "cell_type": "code",
   "execution_count": null,
   "metadata": {},
   "outputs": [],
   "source": [
    "plt.figure(figsize=(5, 5))\n",
    "plt.title('과일 판매 비율')\n",
    "plt.pie(result, labels=fruit, autopct='%.1f%%', startangle=90, counterclock=False, explode=explode_value, shadow=True)\n",
    "plt.savefig('./saveFigure2.png', dpi=200)\n",
    "plt.show()"
   ]
  }
 ],
 "metadata": {
  "kernelspec": {
   "display_name": "Python 3",
   "language": "python",
   "name": "python3"
  },
  "language_info": {
   "codemirror_mode": {
    "name": "ipython",
    "version": 3
   },
   "file_extension": ".py",
   "mimetype": "text/x-python",
   "name": "python",
   "nbconvert_exporter": "python",
   "pygments_lexer": "ipython3",
   "version": "3.7.4"
  }
 },
 "nbformat": 4,
 "nbformat_minor": 2
}
