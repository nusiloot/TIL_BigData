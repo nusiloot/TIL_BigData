{
 "cells": [
  {
   "cell_type": "code",
   "execution_count": null,
   "metadata": {},
   "outputs": [],
   "source": [
    "import numpy as np"
   ]
  },
  {
   "cell_type": "code",
   "execution_count": null,
   "metadata": {},
   "outputs": [],
   "source": [
    "import pandas as pd"
   ]
  },
  {
   "cell_type": "code",
   "execution_count": null,
   "metadata": {},
   "outputs": [],
   "source": [
    "import matplotlib.pyplot as plt"
   ]
  },
  {
   "cell_type": "markdown",
   "metadata": {},
   "source": [
    "## Question 01\n",
    "\n",
    "- 아래 주어진 코드로 아래와 같은 실선스타일의 sin 그래프와 파선스타일의 cos 그래프를 생성하라.\n",
    "```python\n",
    "import numpy as np\n",
    "import pandas as pd\n",
    "import matplotlib.pyplot as plt\n",
    "x = np.linspace(0, 10, 100)  # [0, 10] 범위에서 100개의 값 생성\n",
    "```\n",
    "\n",
    "<img src=\"https://user-images.githubusercontent.com/52685250/77934987-cd920000-72eb-11ea-8c8b-2cdf85b625b3.JPG\" width=\"300\">"
   ]
  },
  {
   "cell_type": "code",
   "execution_count": null,
   "metadata": {},
   "outputs": [],
   "source": [
    "x = np.linspace(0, 10, 100)"
   ]
  },
  {
   "cell_type": "code",
   "execution_count": null,
   "metadata": {},
   "outputs": [],
   "source": [
    "plt.figure()  # 새로운 그래프 창을 생성\n",
    "plt.plot(x, np.sin(x), 'b-')  # 실선 스타일로 sin 그래프 생성\n",
    "plt.plot(x, np.cos(x), 'y--')  # 파선 스타일로 cos 그래프 생성\n",
    "plt.show()"
   ]
  },
  {
   "cell_type": "markdown",
   "metadata": {},
   "source": [
    "## Question 02\n",
    "\n",
    "- `subplot()`을 활용하여 아래와 같은 sin, cos 그래프를 그리시오.\n",
    "\n",
    "<img src=\"https://user-images.githubusercontent.com/52685250/77935258-2cf01000-72ec-11ea-94d4-83dbd5113403.JPG\" width=\"300\">"
   ]
  },
  {
   "cell_type": "code",
   "execution_count": null,
   "metadata": {},
   "outputs": [],
   "source": [
    "plt.figure()\n",
    "plt.subplot(211)  # 2, 1, 1도 가능\n",
    "plt.plot(x, np.sin(x))\n",
    "\n",
    "plt.subplot(212)  # 2, 1, 2도 가능\n",
    "plt.plot(x, np.cos(x))\n",
    "\n",
    "plt.show()"
   ]
  },
  {
   "cell_type": "markdown",
   "metadata": {},
   "source": [
    "## Question 03\n",
    "\n",
    "- 한 학급에서 30명의 학생들이 5개의 영화 장르(로맨스, 코미디, 액션, 판타지, 스릴러) 중 좋아하는 장르를 선택하라고 했을 때 장르별로 선택한 학생 수(10, 6, 4, 12, 8)를 파이그래프로 표현하시오."
   ]
  },
  {
   "cell_type": "code",
   "execution_count": null,
   "metadata": {},
   "outputs": [],
   "source": [
    "genre = ['romance', 'comedy', 'action', 'fantasy', 'thriller']\n",
    "result = [10, 6, 4, 12, 8]\n",
    "\n",
    "df_genre = pd.Series(result, index=genre, name='favorites')\n",
    "df_genre.plot.pie()\n",
    "plt.show()"
   ]
  }
 ],
 "metadata": {
  "kernelspec": {
   "display_name": "Python 3",
   "language": "python",
   "name": "python3"
  },
  "language_info": {
   "codemirror_mode": {
    "name": "ipython",
    "version": 3
   },
   "file_extension": ".py",
   "mimetype": "text/x-python",
   "name": "python",
   "nbconvert_exporter": "python",
   "pygments_lexer": "ipython3",
   "version": "3.7.4"
  }
 },
 "nbformat": 4,
 "nbformat_minor": 2
}
