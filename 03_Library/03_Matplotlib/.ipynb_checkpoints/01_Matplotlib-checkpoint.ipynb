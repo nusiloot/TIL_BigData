{
 "cells": [
  {
   "cell_type": "markdown",
   "metadata": {},
   "source": [
    "# 1. Data 시각화 (1)"
   ]
  },
  {
   "cell_type": "markdown",
   "metadata": {},
   "source": [
    "## (1) matplotlib로 그래프 그리기\n",
    "\n",
    "- 파이썬에서 데이터를 효과적으로 시각화하는 라이브러리\n",
    "- MATLAB의 시각화 기능을 모델링해서 만들어 짐\n",
    "- 몇 줄의 코드로 간단하게 2차원 선 그래프, 산점도, 막대 그래프, 히스토그램, 파이 그래프를 그릴 수 있다.\n",
    "\n",
    "```python\n",
    "import matplotlib as mpl\n",
    "import matplotlib.pyplot as plt  # matplotlib 불러오기\n",
    "%matplotlib qt  # 팝업 출력(jupyter notebook용)\n",
    "%matplotlib inline  # 코드북에 출력(jupyter notebook용)\n",
    "```"
   ]
  },
  {
   "cell_type": "markdown",
   "metadata": {},
   "source": [
    "## (2) 선 그래프\n",
    "\n",
    "- 선 그래프를 그리기 위해서는 x, y 시퀀스의 길이가 같아야 함\n",
    "```python\n",
    "plt.plot([x,] y [,fmt])\n",
    "plt.plot(y)\n",
    "plt.plot(y, fmt)\n",
    "plt.plot(x, y)\n",
    "plt.plot(x, y, fmt)\n",
    "```\n",
    "\n",
    "- format string(`fmt`) : 다양한 형식으로 그래프를 그릴 수 있는 옵션"
   ]
  },
  {
   "cell_type": "code",
   "execution_count": null,
   "metadata": {},
   "outputs": [],
   "source": [
    "import matplotlib.pyplot as plt"
   ]
  },
  {
   "cell_type": "code",
   "execution_count": null,
   "metadata": {},
   "outputs": [],
   "source": [
    "%matplotlib inline"
   ]
  },
  {
   "cell_type": "code",
   "execution_count": null,
   "metadata": {},
   "outputs": [],
   "source": [
    "data1 = [10, 14, 19, 20, 25]\n",
    "plt.plot(data1)"
   ]
  },
  {
   "cell_type": "code",
   "execution_count": null,
   "metadata": {},
   "outputs": [],
   "source": [
    "plt.plot(data1)\n",
    "plt.show()  # 객체 정보가 보여지지 않고 그래프만 깔끔하게 나옴"
   ]
  },
  {
   "cell_type": "code",
   "execution_count": null,
   "metadata": {},
   "outputs": [],
   "source": [
    "import numpy as np"
   ]
  },
  {
   "cell_type": "code",
   "execution_count": null,
   "metadata": {},
   "outputs": [],
   "source": [
    "x = np.arange(-4.5, 5, 0.5)\n",
    "x"
   ]
  },
  {
   "cell_type": "code",
   "execution_count": null,
   "metadata": {},
   "outputs": [],
   "source": [
    "y = 2*x**2\n",
    "[x, y]"
   ]
  },
  {
   "cell_type": "code",
   "execution_count": null,
   "metadata": {},
   "outputs": [],
   "source": [
    "plt.plot(x, y)\n",
    "plt.show()"
   ]
  },
  {
   "cell_type": "markdown",
   "metadata": {},
   "source": [
    "## (3) 여러 그래프 그리기\n",
    "\n",
    "- 여러 데이터를 효과적으로 표현하기 위한 방법\n",
    "```python\n",
    "# 하나의 그래프 창에 여러 개를 표시하는 방법(1)\n",
    "plt.plot([x1,] y1 [,fmt1])\n",
    "plt.plot([x2,] y2 [,fmt2])\n",
    "...\n",
    "plt.plot([xn,] yn [,fmtn])\n",
    "# 하나의 그래프 창에 여러 개를 표시하는 방법(2) => 이 방법 주로 사용!\n",
    "plt.plot(x1, y1, [,fmt1], x2, y2, [,fmt2], ..., xn, yn, [,fmtn])\n",
    "# 포맷을 넣거나 생략하는 구문\n",
    "plt.plot(x1, y1, x2, y2, ..., xn, yn)\n",
    "plt.plot(x1, y1, fmt1, x2, y2, fmt2, ..., xn, yn, fmtn)\n",
    "plt.plot(x1, y1, x2, y2, fmt2, ..., xn, yn)\n",
    "plt.plot(x1, y1, fmt1, x2, y2, ..., xn, yn)\n",
    "```\n",
    "\n",
    "- 여러 개 창으로 그래프 그리기\n",
    "```python\n",
    "plt.plot(x, y1)  # 첫번째 그래프 그리기\n",
    "plt.figure()  # 새로운 창 생성\n",
    "plt.plot(x, y2)  # 두번째 그래프 그리기\n",
    "plt.show()  # 그래프 창에 출력\n",
    "```\n",
    "\n",
    "- 하나의 창에 여러 그래프 창으로 그리기\n",
    "```python\n",
    "plt.subplot(m, n, p)  # m행 n열로 구성하고 p번째 위치에 표시\n",
    "```"
   ]
  },
  {
   "cell_type": "code",
   "execution_count": null,
   "metadata": {},
   "outputs": [],
   "source": [
    "x = np.arange(-4.5, 5, 0.5)"
   ]
  },
  {
   "cell_type": "code",
   "execution_count": null,
   "metadata": {},
   "outputs": [],
   "source": [
    "y1 = 2*x**2\n",
    "y2 = 5*x + 30\n",
    "y3 = 4*x**2 + 10"
   ]
  },
  {
   "cell_type": "code",
   "execution_count": null,
   "metadata": {},
   "outputs": [],
   "source": [
    "plt.plot(x, y1)\n",
    "plt.plot(x, y2)\n",
    "plt.plot(x, y3)  # 세 개의 그래프를 한 셀에서 동시에 실행\n",
    "plt.show()"
   ]
  },
  {
   "cell_type": "code",
   "execution_count": null,
   "metadata": {},
   "outputs": [],
   "source": [
    "plt.plot(x, y1, x, y2, x, y3)\n",
    "plt.show()"
   ]
  },
  {
   "cell_type": "code",
   "execution_count": null,
   "metadata": {},
   "outputs": [],
   "source": [
    "plt.plot(x, y1)\n",
    "plt.figure()  # 새로운 그래프 창을 생성\n",
    "plt.plot(x, y2)  # 새롭게 생성된 그래프 창에 그래프를 그림\n",
    "plt.show()"
   ]
  },
  {
   "cell_type": "code",
   "execution_count": null,
   "metadata": {},
   "outputs": [],
   "source": [
    "x = np.arange(-10, 10, 1)\n",
    "y1 = x**2 - 2\n",
    "y2 = 20*np.cos(x)**2"
   ]
  },
  {
   "cell_type": "code",
   "execution_count": null,
   "metadata": {},
   "outputs": [],
   "source": [
    "plt.figure(1)  # 1번 그래프 창을 생성\n",
    "plt.plot(x, y1)  # 지정된 그래프 창에 그래프를 그림\n",
    "\n",
    "plt.figure(2)  # 2번 그래프 창을 생성\n",
    "plt.plot(x, y2)  # 지정된 그래프 창에 그래프를 그림\n",
    "\n",
    "plt.figure(1)  # 이미 생성된 1번 그래프 창을 지정\n",
    "plt.plot(x, y2)  # 지정된 그래프 창에 그래프를 그림\n",
    "\n",
    "plt.figure(2)  # 이미 생성된 2번 그래프창을 지정\n",
    "plt.clf()  # 2번 그래프 창에 그려진 모든 그래프를 지움\n",
    "plt.plot(x, y1)  # 지정된 그래프 창에 그래프를 그림\n",
    "\n",
    "plt.show()"
   ]
  },
  {
   "cell_type": "code",
   "execution_count": null,
   "metadata": {},
   "outputs": [],
   "source": [
    "x = np.arange(0, 10, 0.2)\n",
    "y1 = 0.4*(x-5)**2 + 2\n",
    "y2 = -1.7*x + 4\n",
    "y3 = np.sin(x)**2\n",
    "y4 = 15*np.exp(-x) + 1"
   ]
  },
  {
   "cell_type": "code",
   "execution_count": null,
   "metadata": {},
   "outputs": [],
   "source": [
    "plt.subplot(2, 2, 1)\n",
    "plt.plot(x, y1)\n",
    "\n",
    "plt.subplot(2, 2, 2)\n",
    "plt.plot(x, y2)\n",
    "\n",
    "plt.subplot(2, 2, 3)\n",
    "plt.plot(x, y3)\n",
    "\n",
    "plt.subplot(2, 2, 4)\n",
    "plt.plot(x, y4)\n",
    "\n",
    "plt.show()"
   ]
  },
  {
   "cell_type": "markdown",
   "metadata": {},
   "source": [
    "## (4) 그래프의 출력 범위 지정하기\n",
    "\n",
    "- matplotlib에서 그래프의 x축과 y축의 좌표 범위를 지정해 전체 그래프 중 관심 영역만 그래프로 그릴 수 있음\n",
    "```python\n",
    "plt.xlim(xmin, xmax)  # x축의 좌표 범위 지정(xmin ~ xmax)\n",
    "plt.ylim(ymin, ymax)  # y축의 좌표 범위 지정(ymin ~ ymax)\n",
    "```\n",
    "\n",
    "- x, y축의 좌표 범위를 가져 오는 방법\n",
    "```python\n",
    "[xmin, xmax] = plt.xlim()  # x축의 좌표 범위 가져오기\n",
    "[ymin, ymax] = plt.ylim()  # y축의 좌표 범위 가져오기\n",
    "```"
   ]
  },
  {
   "cell_type": "code",
   "execution_count": null,
   "metadata": {},
   "outputs": [],
   "source": [
    "x = np.linspace(-4, 4, 100)  # [-4, 4] 범위에서 100개의 값 생성\n",
    "y1 = x**3\n",
    "y2 = 10*x**2 - 2"
   ]
  },
  {
   "cell_type": "code",
   "execution_count": null,
   "metadata": {},
   "outputs": [],
   "source": [
    "plt.plot(x, y1, x, y2)\n",
    "plt.show()"
   ]
  },
  {
   "cell_type": "code",
   "execution_count": null,
   "metadata": {},
   "outputs": [],
   "source": [
    "plt.plot(x, y1, x, y2)\n",
    "plt.xlim(-1, 1)\n",
    "plt.ylim(-3, 3)\n",
    "plt.show()"
   ]
  }
 ],
 "metadata": {
  "kernelspec": {
   "display_name": "Python 3",
   "language": "python",
   "name": "python3"
  },
  "language_info": {
   "codemirror_mode": {
    "name": "ipython",
    "version": 3
   },
   "file_extension": ".py",
   "mimetype": "text/x-python",
   "name": "python",
   "nbconvert_exporter": "python",
   "pygments_lexer": "ipython3",
   "version": "3.7.4"
  }
 },
 "nbformat": 4,
 "nbformat_minor": 2
}
