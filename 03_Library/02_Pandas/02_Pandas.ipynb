{
 "cells": [
  {
   "cell_type": "markdown",
   "metadata": {},
   "source": [
    "# 2. 구조적 데이터 생성(2), 데이터 연산"
   ]
  },
  {
   "cell_type": "markdown",
   "metadata": {},
   "source": [
    "## (1) 구조적 데이터 생성\n",
    "\n",
    "### 3) Dataframe 을 활용한 데이터 생성\n",
    "\n",
    "- Dataframe은 자료(Data)를 담는 틀(Frame)\n",
    "- 라벨이 있는 2차원 데이터를 생성하고 처리할 수 있음.\n",
    "```python\n",
    "df = pd.Dataframe(data [, index = index_data, columns = columns_data])\n",
    "```\n",
    "- 세로축 라벨을 index, 가로축 라벨을 columns, 그 외는 values라고 한다.\n",
    "<img src=\"https://user-images.githubusercontent.com/52685250/77556945-77444c00-6efc-11ea-9af0-babceb7d92f3.JPG\" width=\"400\">\n",
    "\n",
    "- 딕셔너리 타입의 데이터\n",
    "```python\n",
    "In : table_data = {'연도' : [2020, 2021, 2021, 2022, 2022],\n",
    "                   '지사' : ['한국', '한국', '미국', '한국', '미국'],\n",
    "                   '고객 수' : [250, 450, 300, 500, 210]}\n",
    "    pd.DataFrame(table_data)\n",
    "```\n",
    "\n",
    "<table>\n",
    "    <thead>\n",
    "        <tr>\n",
    "            <td><center><b>연도</b></center></td>\n",
    "            <td><center><b>지사</b></center></td>\n",
    "            <td><center><b>고객 수</b></center></td>\n",
    "        </tr>\n",
    "    </thead>\n",
    "    <tbody>\n",
    "        <tr>\n",
    "            <td><center>2020</center></td>\n",
    "            <td><center>한국</center></td>\n",
    "            <td><center>250</center></td>\n",
    "        </tr>\n",
    "        <tr>\n",
    "            <td><center>2021</center></td>\n",
    "            <td><center>한국</center></td>\n",
    "            <td><center>450</center></td>\n",
    "        </tr>\n",
    "        <tr>\n",
    "            <td><center>2021</center></td>\n",
    "            <td><center>미국</center></td>\n",
    "            <td><center>300</center></td>\n",
    "        </tr>\n",
    "        <tr>\n",
    "            <td><center>2022</center></td>\n",
    "            <td><center>한국</center></td>\n",
    "            <td><center>500</center></td>\n",
    "        </tr>\n",
    "        <tr>\n",
    "            <td><center>2022</center></td>\n",
    "            <td><center>미국</center></td>\n",
    "            <td><center>200</center></td>\n",
    "        </tr>\n",
    "    </tbody>\n",
    "</table>\n",
    "\n",
    "- DataFrame 모듈을 이용하면 인덱스와 컬럼이 있는 데이터 등과 같이 2차원 구조의 데이터를 간편하게 생성할 수 있다."
   ]
  },
  {
   "cell_type": "code",
   "execution_count": null,
   "metadata": {},
   "outputs": [],
   "source": [
    "import numpy as np\n",
    "import pandas as pd"
   ]
  },
  {
   "cell_type": "code",
   "execution_count": null,
   "metadata": {},
   "outputs": [],
   "source": [
    "pd.DataFrame([[1, 2, 3], [4, 5, 6], [7, 8, 9]])"
   ]
  },
  {
   "cell_type": "code",
   "execution_count": null,
   "metadata": {},
   "outputs": [],
   "source": [
    "data_list = np.array([[1, 2, 3], [4, 5, 6], [7, 8, 9]])\n",
    "data_list"
   ]
  },
  {
   "cell_type": "code",
   "execution_count": null,
   "metadata": {},
   "outputs": [],
   "source": [
    "pd.DataFrame(data_list)"
   ]
  },
  {
   "cell_type": "code",
   "execution_count": null,
   "metadata": {},
   "outputs": [],
   "source": [
    "# index, column 명 직접 입력\n",
    "index_date = pd.date_range('2020-08-01', periods=3)\n",
    "index_date"
   ]
  },
  {
   "cell_type": "code",
   "execution_count": null,
   "metadata": {},
   "outputs": [],
   "source": [
    "columns_list = ['A', 'B', 'C']"
   ]
  },
  {
   "cell_type": "code",
   "execution_count": null,
   "metadata": {},
   "outputs": [],
   "source": [
    "pd.DataFrame(data_list, index=index_date, columns=columns_list)"
   ]
  },
  {
   "cell_type": "code",
   "execution_count": null,
   "metadata": {},
   "outputs": [],
   "source": [
    "table_data = {'연도' : [2020, 2021, 2021, 2022, 2022],\n",
    "              '지사' : ['한국', '한국', '미국', '한국', '미국'],\n",
    "              '고객 수' : [250, 450, 300, 500, 210]}"
   ]
  },
  {
   "cell_type": "code",
   "execution_count": null,
   "metadata": {},
   "outputs": [],
   "source": [
    "df = pd.DataFrame(table_data)"
   ]
  },
  {
   "cell_type": "code",
   "execution_count": null,
   "metadata": {},
   "outputs": [],
   "source": [
    "df # 변수에 담아서 활용할 수 있다."
   ]
  },
  {
   "cell_type": "code",
   "execution_count": null,
   "metadata": {},
   "outputs": [],
   "source": [
    "df.index"
   ]
  },
  {
   "cell_type": "code",
   "execution_count": null,
   "metadata": {},
   "outputs": [],
   "source": [
    "df.columns"
   ]
  },
  {
   "cell_type": "code",
   "execution_count": null,
   "metadata": {},
   "outputs": [],
   "source": [
    "df.values"
   ]
  },
  {
   "cell_type": "markdown",
   "metadata": {},
   "source": [
    "## (2) 데이터 연산\n",
    "\n",
    "- Pandas의 `Series()`와 `DataFrame()`으로 생성한 데이터끼리 사칙연산 가능\n",
    "- DataFrame 형식 Data 연산 (길이가 같지 않아도 연산 가능\n",
    "\n",
    "<img src=\"https://user-images.githubusercontent.com/52685250/77559127-1f5b1480-6eff-11ea-8d1a-a29b4ea45d7c.png\" width=\"600\">\n",
    "\n",
    "- DataFrame을 활용하여 컬럼/레코드별 간단한 통계분석이 가능"
   ]
  },
  {
   "cell_type": "code",
   "execution_count": null,
   "metadata": {},
   "outputs": [],
   "source": [
    "d1 = pd.Series([1, 2, 3, 4, 5])\n",
    "d1"
   ]
  },
  {
   "cell_type": "code",
   "execution_count": null,
   "metadata": {},
   "outputs": [],
   "source": [
    "d2 = pd.Series([10, 20, 30, 40, 50])\n",
    "d2"
   ]
  },
  {
   "cell_type": "code",
   "execution_count": null,
   "metadata": {},
   "outputs": [],
   "source": [
    "d1 + d2"
   ]
  },
  {
   "cell_type": "code",
   "execution_count": null,
   "metadata": {},
   "outputs": [],
   "source": [
    "d2 - d1"
   ]
  },
  {
   "cell_type": "code",
   "execution_count": null,
   "metadata": {},
   "outputs": [],
   "source": [
    "d1 * d2"
   ]
  },
  {
   "cell_type": "code",
   "execution_count": null,
   "metadata": {},
   "outputs": [],
   "source": [
    "d2 / d1"
   ]
  },
  {
   "cell_type": "code",
   "execution_count": null,
   "metadata": {},
   "outputs": [],
   "source": [
    "d1 * (2 + d2)"
   ]
  },
  {
   "cell_type": "code",
   "execution_count": null,
   "metadata": {},
   "outputs": [],
   "source": [
    "d3 = pd.Series([1, 2, 3])\n",
    "d4 = pd.Series([10, 20, 30, 40, 50])"
   ]
  },
  {
   "cell_type": "code",
   "execution_count": null,
   "metadata": {},
   "outputs": [],
   "source": [
    "d3 + d4 # 계산이 안 되는 칸은 NaN으로 출력된다."
   ]
  },
  {
   "cell_type": "code",
   "execution_count": null,
   "metadata": {},
   "outputs": [],
   "source": [
    "d4 - d3"
   ]
  },
  {
   "cell_type": "code",
   "execution_count": null,
   "metadata": {},
   "outputs": [],
   "source": [
    "d3 * d4"
   ]
  },
  {
   "cell_type": "code",
   "execution_count": null,
   "metadata": {},
   "outputs": [],
   "source": [
    "d4 / d3"
   ]
  },
  {
   "cell_type": "code",
   "execution_count": null,
   "metadata": {},
   "outputs": [],
   "source": [
    "table_d1 = {'A' : [1, 2, 3, 4, 5],\n",
    "            'B' : [10, 20, 30, 40, 50],\n",
    "            'C' : [100, 200, 300, 400, 500]}\n",
    "df1 = pd.DataFrame(table_d1)\n",
    "df1"
   ]
  },
  {
   "cell_type": "code",
   "execution_count": null,
   "metadata": {},
   "outputs": [],
   "source": [
    "table_d2 = {'A' : [6, 7, 8],\n",
    "            'B' : [60, 70, 80],\n",
    "            'C' : [600, 700, 800]}\n",
    "df2 = pd.DataFrame(table_d2)\n",
    "df2"
   ]
  },
  {
   "cell_type": "code",
   "execution_count": null,
   "metadata": {},
   "outputs": [],
   "source": [
    "df1 + df2"
   ]
  },
  {
   "cell_type": "code",
   "execution_count": null,
   "metadata": {},
   "outputs": [],
   "source": [
    "table_d3 = {'봄': [266.5, 275.3, 265.9, 222.2, 308.8],\n",
    "            '여름': [763.7, 528.6, 574.6, 352.4, 477.5],\n",
    "            '가을': [365.4, 274.7, 296.6, 287.8, 356.7],\n",
    "            '겨울': [187.3, 69.8, 85.9, 89.1, 104.5]}\n",
    "columns_list = ['봄', '여름', '가을', '겨울']\n",
    "index_list = ['2022', '2023', '2024', '2025', '2026']"
   ]
  },
  {
   "cell_type": "code",
   "execution_count": null,
   "metadata": {},
   "outputs": [],
   "source": [
    "df3 = pd.DataFrame(table_d3, columns = columns_list, index = index_list)\n",
    "df3"
   ]
  },
  {
   "cell_type": "code",
   "execution_count": null,
   "metadata": {},
   "outputs": [],
   "source": [
    "df3.mean()"
   ]
  },
  {
   "cell_type": "code",
   "execution_count": null,
   "metadata": {},
   "outputs": [],
   "source": [
    "df3.std()"
   ]
  },
  {
   "cell_type": "code",
   "execution_count": null,
   "metadata": {},
   "outputs": [],
   "source": [
    "# axis 값을 1로 바꾸면 레코드 별로 통계분석을 할 수 있다.\n",
    "# (default : axis=0 => 컬럼별로 통계분석)\n",
    "df3.mean(axis=1)"
   ]
  },
  {
   "cell_type": "code",
   "execution_count": null,
   "metadata": {},
   "outputs": [],
   "source": [
    "df3.std(axis=1)"
   ]
  }
 ],
 "metadata": {
  "kernelspec": {
   "display_name": "Python 3",
   "language": "python",
   "name": "python3"
  },
  "language_info": {
   "codemirror_mode": {
    "name": "ipython",
    "version": 3
   },
   "file_extension": ".py",
   "mimetype": "text/x-python",
   "name": "python",
   "nbconvert_exporter": "python",
   "pygments_lexer": "ipython3",
   "version": "3.7.4"
  }
 },
 "nbformat": 4,
 "nbformat_minor": 2
}
