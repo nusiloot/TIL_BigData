{
 "cells": [
  {
   "cell_type": "markdown",
   "metadata": {},
   "source": [
    "# 1. Pandas의 개요, 구조적 데이터 생성(1)"
   ]
  },
  {
   "cell_type": "markdown",
   "metadata": {},
   "source": [
    "## (1) 개요\n",
    "\n",
    "- NumPy 기반 데이터 분석 특화 라이브러리\n",
    "- 복잡한 데이터 분석에 특화\n",
    "- pandas는 NumPy와 달리 <b>데이터 타입이 다양하게 섞여 있어도 처리가능</b>"
   ]
  },
  {
   "cell_type": "markdown",
   "metadata": {},
   "source": [
    "## (2) 구조적 데이터 생성\n",
    "\n",
    "### 1) Series를 활용한 데이터생성\n",
    "\n",
    "- Series란 라벨을 갖는 구조적 데이터를 생성하는것\n",
    "```python\n",
    "import pandas as pd  # pandas 라이브러리 호출\n",
    "s = pd.Series(seq_data)  # Series 형식의 데이터 생성\n",
    "s = pd.Series(seq_data, index = index_seq)  # 데이터에 인덱스 추가\n",
    "s = pd.Series(dict_data)  # 데이터와 인덱스를 함께 입력\n",
    "```\n",
    "\n",
    "<table>\n",
    "    <tr>\n",
    "        <td>0</td>\n",
    "        <td>10</td>\n",
    "    </tr>\n",
    "    <tr>\n",
    "        <td>1</td>\n",
    "        <td>20</td>\n",
    "    </tr>\n",
    "    <tr>\n",
    "        <td>2</td>\n",
    "        <td>30</td>\n",
    "    </tr>\n",
    "    <tr>\n",
    "        <td>3</td>\n",
    "        <td>40</td>\n",
    "    </tr>\n",
    "    <tr>\n",
    "        <td>4</td>\n",
    "        <td>50</td>\n",
    "    </tr>\n",
    "</table>"
   ]
  },
  {
   "cell_type": "code",
   "execution_count": null,
   "metadata": {},
   "outputs": [],
   "source": [
    "import pandas as pd"
   ]
  },
  {
   "cell_type": "code",
   "execution_count": null,
   "metadata": {},
   "outputs": [],
   "source": [
    "s1 = pd.Series([10, 20, 30, 40, 50])\n",
    "s1"
   ]
  },
  {
   "cell_type": "code",
   "execution_count": null,
   "metadata": {},
   "outputs": [],
   "source": [
    "s1.index"
   ]
  },
  {
   "cell_type": "code",
   "execution_count": null,
   "metadata": {},
   "outputs": [],
   "source": [
    "for idx in s1.index:\n",
    "    print(idx)"
   ]
  },
  {
   "cell_type": "code",
   "execution_count": null,
   "metadata": {},
   "outputs": [],
   "source": [
    "s1.values"
   ]
  },
  {
   "cell_type": "code",
   "execution_count": null,
   "metadata": {},
   "outputs": [],
   "source": [
    "s2 = pd.Series(['a', 'b', 'c', 1, 2, 3])\n",
    "s2"
   ]
  },
  {
   "cell_type": "code",
   "execution_count": null,
   "metadata": {},
   "outputs": [],
   "source": [
    "# 텍스트와 숫자가 섞이면 dtype은 object가 된다.(숫자보다 텍스트를 더 우선으로 생각함)\n",
    "print(s1.dtype)\n",
    "print(s2.dtype)"
   ]
  },
  {
   "cell_type": "code",
   "execution_count": null,
   "metadata": {},
   "outputs": [],
   "source": [
    "import numpy as np"
   ]
  },
  {
   "cell_type": "code",
   "execution_count": null,
   "metadata": {},
   "outputs": [],
   "source": [
    "# numpy의 nan 값을 이용해서 비어있음을 표현할 수 있다.\n",
    "s3 = pd.Series([np.nan, 10, 30]) # 여기서 NaN은 숫자로 비어있음을 의미함\n",
    "s3"
   ]
  },
  {
   "cell_type": "code",
   "execution_count": null,
   "metadata": {},
   "outputs": [],
   "source": [
    "# 인덱스를 직접 지정해서 넣을 수도 있다.\n",
    "index_date = ['2020-09-01', '2020-09-02', '2020-09-03', '2020-09-04']"
   ]
  },
  {
   "cell_type": "code",
   "execution_count": null,
   "metadata": {},
   "outputs": [],
   "source": [
    "s4 = pd.Series([200, 195, np.nan, 205], index = index_date)  # 여기서 NaN은 숫자로 비어있음을 의미함\n",
    "s4"
   ]
  },
  {
   "cell_type": "code",
   "execution_count": null,
   "metadata": {},
   "outputs": [],
   "source": [
    "# 딕셔너리 형태로 입력을 넣을 수 있다.\n",
    "# key : 인덱스, value : 데이터\n",
    "s5 = pd.Series({'국어': 100, '영어': 95, '수학': 90})\n",
    "s5"
   ]
  },
  {
   "cell_type": "markdown",
   "metadata": {},
   "source": [
    "### 2) 날짜 자동 생성 : `date_range`\n",
    "\n",
    "- 원하는 날짜를 자동 생성하는 방법\n",
    "```python\n",
    "pd.date_range(start=None, periods=None, freq='0')\n",
    "```\n",
    "- 아래 표처럼 무조건 쓰지 않아도 된다. 다양하게 날짜를 표현할 수 있다.\n",
    "<table>\n",
    "    <thead>\n",
    "        <tr>\n",
    "            <td><center><b>형태</b></center></td>\n",
    "            <td><center><b>표현방식</b></center></td>\n",
    "        </tr>\n",
    "    </thead>\n",
    "    <tbody>\n",
    "        <tr>\n",
    "            <td><center>yyyy-mm-dd</center></td>\n",
    "            <td><center>기본형태, 연도-월-일</center></td>\n",
    "        </tr>\n",
    "        <tr>\n",
    "            <td><center>yyyy/mm/dd</center></td>\n",
    "            <td><center>연도/월/일</center></td>\n",
    "        </tr>\n",
    "        <tr>\n",
    "            <td><center>yyyy.mm.dd</center></td>\n",
    "            <td><center>연도.월.일</center></td>\n",
    "        </tr>\n",
    "        <tr>\n",
    "            <td><center>mm-dd-yyyy</center></td>\n",
    "            <td><center>월-일-연도</center></td>\n",
    "        </tr>\n",
    "        <tr>\n",
    "            <td><center>mm/dd/yyyy</center></td>\n",
    "            <td><center>월/일/연도</center></td>\n",
    "        </tr>\n",
    "        <tr>\n",
    "            <td><center>mm.dd.yyyy</center></td>\n",
    "            <td><center>월.일.연도</center></td>\n",
    "        </tr>\n",
    "    </tbody>\n",
    "</table>\n",
    "\n",
    "- `date_range()` 함수의 `freq` 옵션 (빨간색이 주로 많이 쓰는 옵션)\n",
    "<table>\n",
    "    <thead>\n",
    "        <tr>\n",
    "            <td><center><b>약어</b></center></td>\n",
    "            <td><center><b>설명</b></center></td>\n",
    "            <td><center><b>부가 설명 및 사용 예</b></center></td>\n",
    "        </tr>\n",
    "    </thead>\n",
    "    <tbody>\n",
    "        <tr>\n",
    "            <td style=\"color: red;\"><center>D</center></td>\n",
    "            <td><center>달력 날짜 기준 하루 주기</center></td>\n",
    "            <td><div style=\"text-align: left;\">하루 주기 : freq='D', 이틀 주기 : freq='2D'</div></td>\n",
    "        </tr>\n",
    "        <tr>\n",
    "            <td><center>B</center></td>\n",
    "            <td><center>업무 날짜 기준 하루 주기</center></td>\n",
    "            <td><div style=\"text-align: left;\">업무일(월요일~금요일)기준으로 생성, freq='B', freq='3B'</div></td>\n",
    "        </tr>\n",
    "        <tr>\n",
    "            <td><center>3BW</center></td>\n",
    "            <td><center>일요일 시작 기준 일주일 주기</center></td>\n",
    "            <td><div style=\"text-align: left;\">월요일 : W-MON, 화요일 : W-TUE, freq='W', freq='W-MON'</div></td>\n",
    "        </tr>\n",
    "        <tr>\n",
    "            <td><center>M</center></td>\n",
    "            <td><center>월말 날짜 기준 주기</center></td>\n",
    "            <td><div style=\"text-align: left;\">한 달 주기 : freq='M', 네 달 주기 : freq='4M'</div></td>\n",
    "        </tr>\n",
    "        <tr>\n",
    "            <td><center style=\"color: red;\">BM</center></td>\n",
    "            <td><center>업무 월말 날짜 기준 주기</center></td>\n",
    "            <td><div style=\"text-align: left;\">freq='BM', freq='2BM'</div></td>\n",
    "        </tr>\n",
    "        <tr>\n",
    "            <td><center style=\"color: red;\">MS</center></td>\n",
    "            <td><center>월초 날짜 기준 주기</center></td>\n",
    "            <td><div style=\"text-align: left;\">freq='MS', freq='3MS'</div></td>\n",
    "        </tr>\n",
    "        <tr>\n",
    "            <td><center>BMS</center></td>\n",
    "            <td><center>업무 월초 날짜 기준 주기</center></td>\n",
    "            <td><div style=\"text-align: left;\">freq='MS', freq='3BMS'</div></td>\n",
    "        </tr>\n",
    "        <tr>\n",
    "            <td><center>Q</center></td>\n",
    "            <td><center>분기 끝 날짜 기준 주기</center></td>\n",
    "            <td><div style=\"text-align: left;\">freq='Q', freq='2Q'</div></td>\n",
    "        </tr>\n",
    "        <tr>\n",
    "            <td><center>BQ</center></td>\n",
    "            <td><center>업무 분기 끝 날짜 기준 주기</center></td>\n",
    "            <td><div style=\"text-align: left;\">freq='BQ', freq='2BQ'</div></td>\n",
    "        </tr>\n",
    "        <tr>\n",
    "            <td><center>QS</center></td>\n",
    "            <td><center>분기 시작 날짜 기준 주기</center></td>\n",
    "            <td><div style=\"text-align: left;\">freq='QS', freq='2QS'</div></td>\n",
    "        </tr>\n",
    "        <tr>\n",
    "            <td><center>BQS</center></td>\n",
    "            <td><center>업무 분기 시작 날짜 기준 주기</center></td>\n",
    "            <td><div style=\"text-align: left;\">freq='BQS', freq='2BQS'</div></td>\n",
    "        </tr>\n",
    "        <tr>\n",
    "            <td style=\"color: red;\"><center>A</center></td>\n",
    "            <td><center>일년 끝 날짜 기준 주기</center></td>\n",
    "            <td><div style=\"text-align: left;\">freq='A', freq='5A'</div></td>\n",
    "        </tr>\n",
    "        <tr>\n",
    "            <td><center>BA</center></td>\n",
    "            <td><center>업무 일년 끝 날짜 기준 주기</center></td>\n",
    "            <td><div style=\"text-align: left;\">freq='BA', freq='3BA'</div></td>\n",
    "        </tr>\n",
    "        <tr>\n",
    "            <td><center>AS</center></td>\n",
    "            <td><center>일년 시작 날짜 기준 주기</center></td>\n",
    "            <td><div style=\"text-align: left;\">freq='AS', freq='2AS'</div></td>\n",
    "        </tr>\n",
    "        <tr>\n",
    "            <td><center>BAS</center></td>\n",
    "            <td><center>업무 일년 시작 날짜 기준 주기</center></td>\n",
    "            <td><div style=\"text-align: left;\">freq='BAS', freq='2BAS'</div></td>\n",
    "        </tr>\n",
    "        <tr>\n",
    "            <td style=\"color: red;\"><center>H</center></td>\n",
    "            <td><center>시간 기준 주기</center></td>\n",
    "            <td><div style=\"text-align: left;\">1시간 주기 : freq='H', 2시간 주기 : freq='2H'</div></td>\n",
    "        </tr>\n",
    "        <tr>\n",
    "            <td><center>BH</center></td>\n",
    "            <td><center>업무 시간 기준 주기</center></td>\n",
    "            <td><div style=\"text-align: left;\">업무시간(09:00~17:00) 기준으로 생성</div></td>\n",
    "        </tr>\n",
    "        <tr>\n",
    "            <td style=\"color: red;\"><center>T, min</center></td>\n",
    "            <td><center>분 주기</center></td>\n",
    "            <td><div style=\"text-align: left;\">10분 주기 :freq='10T', 30분 주기 : freq='30min'</div></td>\n",
    "        </tr>\n",
    "        <tr>\n",
    "            <td style=\"color: red;\"><center>S</center></td>\n",
    "            <td><center>초 주기</center></td>\n",
    "            <td><div style=\"text-align: left;\">1초 주기 : freq='S', 10초 주기 : freq='20S'</div></td>\n",
    "        </tr>\n",
    "    </tbody>\n",
    "</table>"
   ]
  },
  {
   "cell_type": "code",
   "execution_count": null,
   "metadata": {},
   "outputs": [],
   "source": [
    "pd.date_range(start='2020-01-01', end='2020-01-10')"
   ]
  },
  {
   "cell_type": "code",
   "execution_count": null,
   "metadata": {},
   "outputs": [],
   "source": [
    "pd.date_range(start='2020/01/01', end='2020.01.10')"
   ]
  },
  {
   "cell_type": "code",
   "execution_count": null,
   "metadata": {},
   "outputs": [],
   "source": [
    "pd.date_range(start='01-01-2020', end='01/10/2020')"
   ]
  },
  {
   "cell_type": "code",
   "execution_count": null,
   "metadata": {},
   "outputs": [],
   "source": [
    "pd.date_range(start='2020-01-01', end='01.10.2020')"
   ]
  },
  {
   "cell_type": "code",
   "execution_count": null,
   "metadata": {},
   "outputs": [],
   "source": [
    "pd.date_range(start='2020-01-01', periods=10)"
   ]
  },
  {
   "cell_type": "code",
   "execution_count": null,
   "metadata": {},
   "outputs": [],
   "source": [
    "pd.date_range(start='2020-01-01', periods=5, freq='2D')"
   ]
  },
  {
   "cell_type": "code",
   "execution_count": null,
   "metadata": {},
   "outputs": [],
   "source": [
    "pd.date_range(start='2020-01-01', periods=5, freq='W')"
   ]
  },
  {
   "cell_type": "code",
   "execution_count": null,
   "metadata": {},
   "outputs": [],
   "source": [
    "pd.date_range(start='2020-01-01', periods=12, freq='2BM')"
   ]
  },
  {
   "cell_type": "code",
   "execution_count": null,
   "metadata": {},
   "outputs": [],
   "source": [
    "pd.date_range(start='2020-01-01', periods=4, freq='QS')"
   ]
  },
  {
   "cell_type": "code",
   "execution_count": null,
   "metadata": {},
   "outputs": [],
   "source": [
    "index_date = pd.date_range(start='2020-04-01', periods=5, freq='D')\n",
    "pd.Series([50, 60, 70, 80, 90], index=index_date)"
   ]
  }
 ],
 "metadata": {
  "kernelspec": {
   "display_name": "Python 3",
   "language": "python",
   "name": "python3"
  },
  "language_info": {
   "codemirror_mode": {
    "name": "ipython",
    "version": 3
   },
   "file_extension": ".py",
   "mimetype": "text/x-python",
   "name": "python",
   "nbconvert_exporter": "python",
   "pygments_lexer": "ipython3",
   "version": "3.7.4"
  }
 },
 "nbformat": 4,
 "nbformat_minor": 2
}
