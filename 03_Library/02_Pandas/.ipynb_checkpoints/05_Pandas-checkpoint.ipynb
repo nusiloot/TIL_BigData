{
 "cells": [
  {
   "cell_type": "markdown",
   "metadata": {},
   "source": [
    "# 5. 데이터 파일을 읽고 쓰기"
   ]
  },
  {
   "cell_type": "markdown",
   "metadata": {},
   "source": [
    "## (1) 표 형식의 데이터 파일을 읽기\n",
    "\n",
    "- `read.csv()`를 통해 필드가 콤마로 구분된 파일 불러오기\n",
    "\n",
    "```python\n",
    "DataFrame_Data = pd.read_csv(file_name [,options])\n",
    "```\n",
    "- 파이썬에서 파일의 경로 표현 : <b>역슬래쉬가 아닌 슬래쉬(/), 혹은 역슬래쉬 2개를 사용해야 함</b>\n",
    "---\n",
    "#### csv 파일\n",
    "&nbsp; csv 파일은 csv 형식으로 데이터를 저장한 텍스트 파일. 여기서 csv 는 comma-separated values의 줄임말로 말 그대로 <b>데이터 필드 사이(값과 값 사이)를 콤마로 구분한 것</b>을 의미. csv 파일의 확장자는 `.csv`이지만 일반 text 파일로 구성되어 있음.<br>\n",
    "&nbsp; csv 형식은 오랫동안 사용됐으며 간단하게 데이터를 표현할 수 있어서 테이블 형태의 데이터를 표현할 때 표준처럼 사용되고 있음. 이에 데이터를 처리하는 각종 프로그램(마이크로소프트 엑셀, 오픈 오피스, 구글 문서도구 등)에서 csv 파일을 읽을 수 있도록 지원. <b>Pandas에서는 csv 파일을 DataFrame 형식으로 읽어오는 것을 지원함.</b>\n",
    "\n",
    "#### 텍스트 파일의 인코딩\n",
    "&nbsp; <b>파이썬 텍스트 파일의 기본 문자 인코딩 형식이 `utf-8`.</b> 하지만 윈도우의 메모장에서 파일을 저장하면 인코딩 형식이 `cp949`가 됨.<b>Pandas의 `read_csv()`로 csv 파일을 읽어 올 때 텍스트 파일의 인코딩 형식에 따라 옵션을 지정</b>해야 함. 그렇지 않으면 한글을 제대로 표현할 수 없음.<br>\n",
    "&nbsp; 텍스트 파일이 `utf-8`로 인코딩되어 있으면 `encoding=\"utf-8\"`로 옵션을 지정하거나 인코딩 옵션을 생략할 수 있음. 텍스트 파일의 인코딩 형식이 `cp949`인 경우 `encoding=\"cp949\"`를 추가하여야 함. 텍스트 파일의 인코딩 방식은 여러 가지가 있지만 윈도우에서 한글로 작성된 파일의 경우 대부분 이 두 가지 인코딩 형식 중 하나를 선택하면 오류 없이 읽어 올 수 있음."
   ]
  },
  {
   "cell_type": "markdown",
   "metadata": {},
   "source": [
    "## (2) 표 형식의 데이터를 파일로 쓰기\n",
    "\n",
    "- `to_csv()`를 이용해 DataFrame 형식의 데이터를 텍스트 파일로 저장\n",
    "\n",
    "```python\n",
    "DataFrame_data = pd.to_csv(file_name [,options])\n",
    "```"
   ]
  },
  {
   "cell_type": "code",
   "execution_count": null,
   "metadata": {},
   "outputs": [],
   "source": [
    "import pandas as pd"
   ]
  },
  {
   "cell_type": "code",
   "execution_count": null,
   "metadata": {},
   "outputs": [],
   "source": [
    "pd.read_csv('./data/kbo.csv', encoding=\"cp949\")"
   ]
  },
  {
   "cell_type": "code",
   "execution_count": null,
   "metadata": {},
   "outputs": [],
   "source": [
    "pd.read_csv('./data/kbo.txt', encoding=\"cp949\", sep=\"\\t\")"
   ]
  },
  {
   "cell_type": "code",
   "execution_count": null,
   "metadata": {},
   "outputs": [],
   "source": [
    "# data 폴더 안에 있는 body.csv, body_cp949.txt 파일 지우고 실습 시작\n",
    "df_body = pd.DataFrame({'Weight': [72, 77, 65, 79],\n",
    "                        'Height': [175, 182, 160, 168]},\n",
    "                        index=['Kim', 'Lee', 'Park', 'Choi'])\n",
    "df_body"
   ]
  },
  {
   "cell_type": "code",
   "execution_count": null,
   "metadata": {},
   "outputs": [],
   "source": [
    "df_body.index.name = 'User'\n",
    "df_body"
   ]
  },
  {
   "cell_type": "code",
   "execution_count": null,
   "metadata": {},
   "outputs": [],
   "source": [
    "bmi = df_body['Weight']/(df_body['Height']/100)**2\n",
    "bmi"
   ]
  },
  {
   "cell_type": "code",
   "execution_count": null,
   "metadata": {},
   "outputs": [],
   "source": [
    "df_body['BMI'] = bmi\n",
    "df_body"
   ]
  },
  {
   "cell_type": "code",
   "execution_count": null,
   "metadata": {},
   "outputs": [],
   "source": [
    "df_body.to_csv('./data/body.csv')"
   ]
  },
  {
   "cell_type": "code",
   "execution_count": null,
   "metadata": {},
   "outputs": [],
   "source": [
    "file_name = './data/body_cp949.txt'\n",
    "df_body.to_csv(file_name, sep=\" \", encoding=\"cp949\")"
   ]
  }
 ],
 "metadata": {
  "kernelspec": {
   "display_name": "Python 3",
   "language": "python",
   "name": "python3"
  },
  "language_info": {
   "codemirror_mode": {
    "name": "ipython",
    "version": 3
   },
   "file_extension": ".py",
   "mimetype": "text/x-python",
   "name": "python",
   "nbconvert_exporter": "python",
   "pygments_lexer": "ipython3",
   "version": "3.7.4"
  }
 },
 "nbformat": 4,
 "nbformat_minor": 2
}
