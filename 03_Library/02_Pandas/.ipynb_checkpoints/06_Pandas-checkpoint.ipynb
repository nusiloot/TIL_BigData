{
 "cells": [
  {
   "cell_type": "code",
   "execution_count": null,
   "metadata": {},
   "outputs": [],
   "source": [
    "import pandas as pd"
   ]
  },
  {
   "cell_type": "markdown",
   "metadata": {},
   "source": [
    "## Question 01\n",
    "\n",
    "- 회사의 직원 몇명의 정보를 포함하는 다음 두 개의 DataFrame을 emrge를 활용하여 결합하라.\n",
    "```python\n",
    "df1 = pd.DataFrame({'employee': ['김주임', '정부장', '오대리', '박대리'], 'group': ['Laboratory1', 'Enginerring', 'Laboratory2', 'Accounting']})\n",
    "df2 = pd.DataFrame({'employee': ['박대리', '정부장', '오대리', '김주임'], 'hire_date': [2016, 2017, 2018, 2018]})\n",
    "```"
   ]
  },
  {
   "cell_type": "code",
   "execution_count": null,
   "metadata": {},
   "outputs": [],
   "source": [
    "df1 = pd.DataFrame({'employee': ['김주임', '정부장', '오대리', '박대리'], 'group': ['Laboratory1', 'Enginerring', 'Laboratory2', 'Accounting']})\n",
    "df2 = pd.DataFrame({'employee': ['박대리', '정부장', '오대리', '김주임'], 'hire_date': [2016, 2017, 2018, 2018]})"
   ]
  },
  {
   "cell_type": "code",
   "execution_count": null,
   "metadata": {},
   "outputs": [],
   "source": [
    "df3 = df1.merge(df2)\n",
    "df3"
   ]
  },
  {
   "cell_type": "markdown",
   "metadata": {},
   "source": [
    "## Question 02\n",
    "\n",
    "- Numpy 패키지를 활용하여 50개의 난수를 생성시키고 이를 Pandas의 시리즈형 데이터로 변환하라."
   ]
  },
  {
   "cell_type": "code",
   "execution_count": null,
   "metadata": {},
   "outputs": [],
   "source": [
    "import numpy as np"
   ]
  },
  {
   "cell_type": "code",
   "execution_count": null,
   "metadata": {},
   "outputs": [],
   "source": [
    "list = np.random.rand(50)\n",
    "list"
   ]
  },
  {
   "cell_type": "code",
   "execution_count": null,
   "metadata": {},
   "outputs": [],
   "source": [
    "data = pd.Series(list)\n",
    "data"
   ]
  },
  {
   "cell_type": "markdown",
   "metadata": {},
   "source": [
    "## Question 03\n",
    "\n",
    "- 다음은 표준분포로 random으로 수를 생성하여 df을 만들어주는 코드이다.\n",
    "\n",
    "```python\n",
    "# 그림 1\n",
    "a = np.random.standard_normal((12, 4))\n",
    "df = pd.DataFrame(a)\n",
    "```\n",
    "\n",
    "- `df.columns`, `pd.data_range`, `df.index`를 활용하여 그림 2와 같은 결과값이 나오도록 코드를 작성하라.\n",
    "\n",
    "<img src=\"https://user-images.githubusercontent.com/52685250/77740379-7c1d1300-7056-11ea-8cbf-b697852de432.png\" width=\"700\">"
   ]
  },
  {
   "cell_type": "code",
   "execution_count": null,
   "metadata": {
    "scrolled": true
   },
   "outputs": [],
   "source": [
    "a = np.random.standard_normal((12, 4))\n",
    "df = pd.DataFrame(a)\n",
    "df"
   ]
  },
  {
   "cell_type": "code",
   "execution_count": null,
   "metadata": {
    "scrolled": true
   },
   "outputs": [],
   "source": [
    "df.columns = [['No1', 'No2', 'No3', 'No4']]\n",
    "dates = pd.date_range('2020-1-1', periods=12, freq='M')\n",
    "df.index = dates\n",
    "df['Quarter'] = [f'Q{i + 1}' for i in range(4) for _ in range(3)]\n",
    "df"
   ]
  }
 ],
 "metadata": {
  "kernelspec": {
   "display_name": "Python 3",
   "language": "python",
   "name": "python3"
  },
  "language_info": {
   "codemirror_mode": {
    "name": "ipython",
    "version": 3
   },
   "file_extension": ".py",
   "mimetype": "text/x-python",
   "name": "python",
   "nbconvert_exporter": "python",
   "pygments_lexer": "ipython3",
   "version": "3.7.4"
  }
 },
 "nbformat": 4,
 "nbformat_minor": 2
}
