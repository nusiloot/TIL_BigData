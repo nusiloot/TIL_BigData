{
 "cells": [
  {
   "cell_type": "code",
   "execution_count": null,
   "metadata": {},
   "outputs": [],
   "source": [
    "import pandas as pd\n",
    "import numpy as np"
   ]
  },
  {
   "cell_type": "code",
   "execution_count": null,
   "metadata": {},
   "outputs": [],
   "source": [
    "KBO = {'연도': ['2013', '2014', '2015', '2016', '2017', '2018'],\n",
    "       '넥센 히어로즈': [0.571, 0.619, 0.545, 0.538, 0.486, 0.521],\n",
    "       '두산 베어스': [0.568, 0.465, 0.549, 0.650, 0.596, 0.646],\n",
    "       '롯데 자이언츠': [0.532, 0.457, 0.462, 0.458, 0.563, 0.479],\n",
    "       '삼성 라이온즈': [0.595, 0.624, 0.611, 0.455, 0.396, 0.486],\n",
    "       '한화 이글스': [0.331, 0.389, 0.472, 0.468, 0.430, 0.535],\n",
    "       'KIA 타이거즈': [0.408, 0.422, 0.465, 0.490, 0.608, 0.486],\n",
    "       'KT 위즈': [np.NaN, np.NaN, 0.364, 0.373, 0.347, 0.418],\n",
    "       'LG 트윈스': [0.578, 0.492, 0.451, 0.500, 0.489, 0.476],\n",
    "       'NC 다이노스': [0.419, 0.551, 0.596, 0.589, 0.560, 0.406],\n",
    "       'SK 와이번스': [0.496, 0.484, 0.486, 0.479, 0.524, 0.545]}\n",
    "col_list = ['연도', '넥센 히어로즈', '두산 베어스', '롯데 자이언츠', '삼성 라이온즈', '한화 이글스', 'KIA 타이거즈', 'KT 위즈', 'LG 트윈스', 'NC 다이노스', 'SK 와이번스']"
   ]
  },
  {
   "cell_type": "code",
   "execution_count": null,
   "metadata": {},
   "outputs": [],
   "source": [
    "df_KBO = pd.DataFrame(KBO, columns = col_list)"
   ]
  },
  {
   "cell_type": "code",
   "execution_count": null,
   "metadata": {
    "scrolled": true
   },
   "outputs": [],
   "source": [
    "df_KBO"
   ]
  },
  {
   "cell_type": "code",
   "execution_count": null,
   "metadata": {},
   "outputs": [],
   "source": [
    "# csv 파일 생성 후 직접 열어서 인덱스 번호가 있는 1열 삭제 후 다시 저장할 것!\n",
    "df_KBO.to_csv(\"data/kbo.csv\", mode=\"w\", encoding='cp949')"
   ]
  }
 ],
 "metadata": {
  "kernelspec": {
   "display_name": "Python 3",
   "language": "python",
   "name": "python3"
  },
  "language_info": {
   "codemirror_mode": {
    "name": "ipython",
    "version": 3
   },
   "file_extension": ".py",
   "mimetype": "text/x-python",
   "name": "python",
   "nbconvert_exporter": "python",
   "pygments_lexer": "ipython3",
   "version": "3.7.4"
  }
 },
 "nbformat": 4,
 "nbformat_minor": 2
}
