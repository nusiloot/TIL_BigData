{
 "cells": [
  {
   "cell_type": "markdown",
   "metadata": {},
   "source": [
    "# 4. 데이터 통합하기"
   ]
  },
  {
   "cell_type": "markdown",
   "metadata": {},
   "source": [
    "## (1) 세로 방향으로 통합하기\n",
    "\n",
    "- DataFrame에서 columns가 같은 두 데이터를 세로 방향(index 증가 방향)으로 합하려면 다음과 같이 `append()`를 이용\n",
    "\n",
    "```python\n",
    "DataFrame_data1.append(DataFrame_data2 [,ignore_index=True])\n",
    "```\n",
    "\n",
    "- 두 학급의 시험 점수가 담긴 두 개의 DataFrame 데이터 생성\n",
    "- `append()` 를 통해 데이터 합침\n",
    "<img src=\"https://user-images.githubusercontent.com/52685250/77734832-c6999200-704c-11ea-91c6-e11c9cc8e8c5.png\" width=\"600\">\n",
    "\n",
    "- 데이터가 없는 부분이 있을 경우 `NaN`으로 처리됨\n",
    "<img src=\"https://user-images.githubusercontent.com/52685250/77734838-c7cabf00-704c-11ea-90f9-a57cee7fa729.png\" width=\"600\">"
   ]
  },
  {
   "cell_type": "markdown",
   "metadata": {},
   "source": [
    "## (2) 가로 방향으로 통합하기\n",
    "\n",
    "- `join()`을 이용하여 가로 방향으로 데이터 합치기\n",
    "```python\n",
    "DataFrame_data1.join(DataFrame_data2)\n",
    "```\n",
    "\n",
    "<img src=\"https://user-images.githubusercontent.com/52685250/77735070-33149100-704d-11ea-8de9-a96db918f266.png\" width=\"600\">"
   ]
  },
  {
   "cell_type": "code",
   "execution_count": null,
   "metadata": {},
   "outputs": [],
   "source": [
    "import numpy as np\n",
    "import pandas as pd"
   ]
  },
  {
   "cell_type": "code",
   "execution_count": null,
   "metadata": {},
   "outputs": [],
   "source": [
    "df1 = pd.DataFrame({'Class1': [45, 46, 48, 50],\n",
    "                    'Class2': [40, 41, 44, 48]})\n",
    "df1"
   ]
  },
  {
   "cell_type": "code",
   "execution_count": null,
   "metadata": {},
   "outputs": [],
   "source": [
    "df2 = pd.DataFrame({'Class1': [41, 42],\n",
    "                    'Class2': [43, 45]})\n",
    "df2"
   ]
  },
  {
   "cell_type": "code",
   "execution_count": null,
   "metadata": {},
   "outputs": [],
   "source": [
    "df1.append(df2)"
   ]
  },
  {
   "cell_type": "code",
   "execution_count": null,
   "metadata": {},
   "outputs": [],
   "source": [
    "df1.append(df2, ignore_index=True)"
   ]
  },
  {
   "cell_type": "code",
   "execution_count": null,
   "metadata": {
    "scrolled": true
   },
   "outputs": [],
   "source": [
    "df3 = pd.DataFrame({'Class1': [48, 38]})\n",
    "df3"
   ]
  },
  {
   "cell_type": "code",
   "execution_count": null,
   "metadata": {},
   "outputs": [],
   "source": [
    "df2.append(df3, ignore_index=True)"
   ]
  },
  {
   "cell_type": "code",
   "execution_count": null,
   "metadata": {},
   "outputs": [],
   "source": [
    "df4 = pd.DataFrame({'Class3': [49, 47, 45, 48]})\n",
    "df4"
   ]
  },
  {
   "cell_type": "code",
   "execution_count": null,
   "metadata": {},
   "outputs": [],
   "source": [
    "df1.join(df4)"
   ]
  },
  {
   "cell_type": "code",
   "execution_count": null,
   "metadata": {},
   "outputs": [],
   "source": [
    "index_label = ['a', 'b', 'c', 'd']\n",
    "df1a = pd.DataFrame({'Class1': [48, 46, 49, 50],\n",
    "                     'Class2': [44, 46, 42, 41]}, index = index_label)\n",
    "df4a = pd.DataFrame({'Class3': [43, 41, 42, 47]}, index = index_label)"
   ]
  },
  {
   "cell_type": "code",
   "execution_count": null,
   "metadata": {},
   "outputs": [],
   "source": [
    "df1a"
   ]
  },
  {
   "cell_type": "code",
   "execution_count": null,
   "metadata": {},
   "outputs": [],
   "source": [
    "df4a"
   ]
  },
  {
   "cell_type": "code",
   "execution_count": null,
   "metadata": {},
   "outputs": [],
   "source": [
    "df1a.join(df4a)"
   ]
  },
  {
   "cell_type": "code",
   "execution_count": null,
   "metadata": {},
   "outputs": [],
   "source": [
    "df5 = pd.DataFrame({'Class4': [42, 47]})\n",
    "df5"
   ]
  },
  {
   "cell_type": "code",
   "execution_count": null,
   "metadata": {},
   "outputs": [],
   "source": [
    "# df1과 df5 결합"
   ]
  },
  {
   "cell_type": "code",
   "execution_count": null,
   "metadata": {},
   "outputs": [],
   "source": [
    "df1"
   ]
  },
  {
   "cell_type": "code",
   "execution_count": null,
   "metadata": {},
   "outputs": [],
   "source": [
    "df1.join(df5) # 없는 값은 NaN"
   ]
  },
  {
   "cell_type": "markdown",
   "metadata": {},
   "source": [
    "## (3) 특정열 기준으로 통합하기\n",
    "\n",
    "- 두 개의 DataFrame 데이터가 특정 열을 기준으로 공통된 값을 찾는 경우 `merge()`를 이용하여 통합\n",
    "\n",
    "```python\n",
    "DataFrame_left_data.merge(DataFrame_right_data)\n",
    "DataFrame_left_data.merge(DataFrame_right_data, how=merge_method, on=key_label)  # 통합하려는 기준이 되는 특정 열을 이용해 통합\n",
    "```\n",
    "- `merge()` 함수의 how 선택 인자에 따른 통합 방법\n",
    "<table>\n",
    "    <thead>\n",
    "        <tr>\n",
    "            <td><center><b>how 선택 인자</b></center></td>\n",
    "            <td><center><b>설명</b></center></td>\n",
    "        </tr>\n",
    "    </thead>\n",
    "    <tbody>\n",
    "        <tr>\n",
    "            <td><center>left</center></td>\n",
    "            <td><div style=\"text-align: left;\">왼쪽 데이터는 모두 선택하고 지정한 열(key)에 값이 있는 오른쪽 데이터를 선택</div></td>\n",
    "        </tr>\n",
    "        <tr>\n",
    "            <td><center>right</center></td>\n",
    "            <td><div style=\"text-align: left;\">오른쪽 데이터는 모두 선택하고 지정된 열(key)에 값이 있는 왼쪽 데이터를 선택</div></td>\n",
    "        </tr>\n",
    "        <tr>\n",
    "            <td><center>outer</center></td>\n",
    "            <td><div style=\"text-align: left;\">지정된 열(key)을 기준으로 왼쪽과 오른쪽 데이터를 모두 선택</div></td>\n",
    "        </tr>\n",
    "        <tr>\n",
    "            <td><center>inner</center></td>\n",
    "            <td><div style=\"text-align: left;\">지정된 열(key)을 기준으로 왼쪽과 오른쪽 데이터 중 공통 항목만 선택(기본값)</div></td>\n",
    "        </tr>\n",
    "    </tbody>\n",
    "</table>"
   ]
  },
  {
   "cell_type": "code",
   "execution_count": null,
   "metadata": {},
   "outputs": [],
   "source": [
    "df6 = pd.DataFrame({'판매월': ['9월', '10월', '11월', '12월'],\n",
    "                    '제품A': [120, 167, 214, 209],\n",
    "                    '제품B': [190, 210, 348, 365]})\n",
    "df6"
   ]
  },
  {
   "cell_type": "code",
   "execution_count": null,
   "metadata": {},
   "outputs": [],
   "source": [
    "df7 = pd.DataFrame({'판매월': ['9월', '10월', '11월', '12월'],\n",
    "                    '제품C': [135, 160, 251, 214],\n",
    "                    '제품D': [187, 207, 366, 302]})\n",
    "df7"
   ]
  },
  {
   "cell_type": "code",
   "execution_count": null,
   "metadata": {},
   "outputs": [],
   "source": [
    "df6.merge(df7)"
   ]
  },
  {
   "cell_type": "code",
   "execution_count": null,
   "metadata": {},
   "outputs": [],
   "source": [
    "df_left = pd.DataFrame({'key': ['A', 'B', 'C'], 'left': [1, 2, 3]})\n",
    "df_left"
   ]
  },
  {
   "cell_type": "code",
   "execution_count": null,
   "metadata": {},
   "outputs": [],
   "source": [
    "df_right = pd.DataFrame({'key': ['A', 'B', 'D'], 'right': [4, 5, 6]})\n",
    "df_right"
   ]
  },
  {
   "cell_type": "code",
   "execution_count": null,
   "metadata": {},
   "outputs": [],
   "source": [
    "df_left.merge(df_right, how='left', on='key')"
   ]
  },
  {
   "cell_type": "code",
   "execution_count": null,
   "metadata": {},
   "outputs": [],
   "source": [
    "df_left.merge(df_right, how='right', on='key')"
   ]
  },
  {
   "cell_type": "code",
   "execution_count": null,
   "metadata": {},
   "outputs": [],
   "source": [
    "df_left.merge(df_right, how='outer', on='key')"
   ]
  },
  {
   "cell_type": "code",
   "execution_count": null,
   "metadata": {},
   "outputs": [],
   "source": [
    "df_left.merge(df_right, how='inner', on='key')"
   ]
  }
 ],
 "metadata": {
  "kernelspec": {
   "display_name": "Python 3",
   "language": "python",
   "name": "python3"
  },
  "language_info": {
   "codemirror_mode": {
    "name": "ipython",
    "version": 3
   },
   "file_extension": ".py",
   "mimetype": "text/x-python",
   "name": "python",
   "nbconvert_exporter": "python",
   "pygments_lexer": "ipython3",
   "version": "3.7.4"
  }
 },
 "nbformat": 4,
 "nbformat_minor": 2
}
