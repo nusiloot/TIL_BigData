{
 "cells": [
  {
   "cell_type": "markdown",
   "metadata": {},
   "source": [
    "# 3. 데이터를 원하는 대로 선택하기"
   ]
  },
  {
   "cell_type": "markdown",
   "metadata": {},
   "source": [
    "## (1) 데이터를 원하는 대로 선택하기\n",
    "\n",
    "- 다수의 데이터가 입력된 데이터 표에서 원하는 데이터만을 선택하는 기능\n",
    "```python\n",
    "DataFrame_data.head([n])  # 처음 일부분 선택\n",
    "DataFrame_data.tail([n])  # 뒤 일부분 선택\n",
    "DataFrame_data[행시작위치 : 행끝위치]  # 연속된 구간의 행 데이터 선택\n",
    "```\n",
    "\n",
    "- index 항목에서의 행 선택\n",
    "```python\n",
    "DataFrame_data.loc[index_name]  # 인덱스 지정하여 행 선택\n",
    "DataFrame_data.loc[시작_index_name : 끝_index_name]  # 인덱스를 구간으로 지정하여 행 선택\n",
    "```\n",
    "\n",
    "- 열을 선택하는 방법\n",
    "```python\n",
    "DataFrame_data[column_name] # 하나의 열을 선택하는 경우\n",
    "# 하나의 열을 선택, 범위를 지정해 원하는 데이터 선택\n",
    "DataFrame_data[column_name][시작_index_name : 끝_index_name]\n",
    "DataFrame_data[column_name][시작_index_pos : 끝_index_pos]\n",
    "```\n",
    "\n",
    "- DataFrame의 데이터 중 하나의 원소만 선택하는 방법\n",
    "```python\n",
    "DataFrame_data.loc[index_name][column_name]\n",
    "DataFrame_data.loc[index_name, column_name]\n",
    "DataFrame_data[column_name][index_name]\n",
    "DataFrame_data[column_name][index_pos]\n",
    "DataFrame_data[column_name].loc[index_name]\n",
    "```\n",
    "\n",
    "- 데이터의 행과 열을 바꾸는 전치\n",
    "```python\n",
    "DataFrame_data.T\n",
    "```"
   ]
  },
  {
   "cell_type": "code",
   "execution_count": null,
   "metadata": {},
   "outputs": [],
   "source": [
    "import pandas as pd\n",
    "import numpy as np"
   ]
  },
  {
   "cell_type": "code",
   "execution_count": null,
   "metadata": {},
   "outputs": [],
   "source": [
    "KBO = {'넥센 히어로즈': [0.571, 0.619, 0.545, 0.538, 0.486, 0.521],\n",
    "       '두산 베어스': [0.568, 0.465, 0.549, 0.650, 0.596, 0.646],\n",
    "       '롯데 자이언츠': [0.532, 0.457, 0.462, 0.458, 0.563, 0.479],\n",
    "       '삼성 라이온즈': [0.595, 0.624, 0.611, 0.455, 0.396, 0.486],\n",
    "       '한화 이글스': [0.331, 0.389, 0.472, 0.468, 0.430, 0.535],\n",
    "       'KIA 타이거즈': [0.408, 0.422, 0.465, 0.490, 0.608, 0.486],\n",
    "       'KT 위즈': [np.NaN, np.NaN, 0.364, 0.373, 0.347, 0.418],\n",
    "       'LG 트윈스': [0.578, 0.492, 0.451, 0.500, 0.489, 0.476],\n",
    "       'NC 다이노스': [0.419, 0.551, 0.596, 0.589, 0.560, 0.406],\n",
    "       'SK 와이번스': [0.496, 0.484, 0.486, 0.479, 0.524, 0.545]}"
   ]
  },
  {
   "cell_type": "code",
   "execution_count": null,
   "metadata": {},
   "outputs": [],
   "source": [
    "col_list = ['넥센 히어로즈', '두산 베어스', '롯데 자이언츠', '삼성 라이온즈', '한화 이글스', 'KIA 타이거즈', 'KT 위즈', 'LG 트윈스', 'NC 다이노스', 'SK 와이번스']\n",
    "index_list = ['2013', '2014', '2015', '2016', '2017', '2018']"
   ]
  },
  {
   "cell_type": "code",
   "execution_count": null,
   "metadata": {},
   "outputs": [],
   "source": [
    "df_KBO = pd.DataFrame(KBO, columns = col_list, index = index_list)\n",
    "df_KBO"
   ]
  },
  {
   "cell_type": "code",
   "execution_count": null,
   "metadata": {},
   "outputs": [],
   "source": [
    "df_KBO.index"
   ]
  },
  {
   "cell_type": "code",
   "execution_count": null,
   "metadata": {},
   "outputs": [],
   "source": [
    "df_KBO.columns"
   ]
  },
  {
   "cell_type": "code",
   "execution_count": null,
   "metadata": {},
   "outputs": [],
   "source": [
    "df_KBO.values"
   ]
  },
  {
   "cell_type": "code",
   "execution_count": null,
   "metadata": {},
   "outputs": [],
   "source": [
    "df_KBO.head()  # default: n = 5"
   ]
  },
  {
   "cell_type": "code",
   "execution_count": null,
   "metadata": {},
   "outputs": [],
   "source": [
    "df_KBO.tail()  # default: n = 5"
   ]
  },
  {
   "cell_type": "code",
   "execution_count": null,
   "metadata": {},
   "outputs": [],
   "source": [
    "df_KBO.head(3)"
   ]
  },
  {
   "cell_type": "code",
   "execution_count": null,
   "metadata": {},
   "outputs": [],
   "source": [
    "df_KBO[1:3]"
   ]
  },
  {
   "cell_type": "code",
   "execution_count": null,
   "metadata": {},
   "outputs": [],
   "source": [
    "df_KBO[2:]"
   ]
  },
  {
   "cell_type": "code",
   "execution_count": null,
   "metadata": {},
   "outputs": [],
   "source": [
    "df_KBO.loc['2018']"
   ]
  },
  {
   "cell_type": "code",
   "execution_count": null,
   "metadata": {},
   "outputs": [],
   "source": [
    "df_KBO.loc['2015':'2017']"
   ]
  },
  {
   "cell_type": "code",
   "execution_count": null,
   "metadata": {},
   "outputs": [],
   "source": [
    "df_KBO['롯데 자이언츠']"
   ]
  },
  {
   "cell_type": "code",
   "execution_count": null,
   "metadata": {},
   "outputs": [],
   "source": [
    "df_KBO['롯데 자이언츠']['2017':'2018']"
   ]
  },
  {
   "cell_type": "code",
   "execution_count": null,
   "metadata": {},
   "outputs": [],
   "source": [
    "df_KBO[['롯데 자이언츠', '두산 베어스', '넥센 히어로즈', '한화 이글스']]"
   ]
  }
 ],
 "metadata": {
  "kernelspec": {
   "display_name": "Python 3",
   "language": "python",
   "name": "python3"
  },
  "language_info": {
   "codemirror_mode": {
    "name": "ipython",
    "version": 3
   },
   "file_extension": ".py",
   "mimetype": "text/x-python",
   "name": "python",
   "nbconvert_exporter": "python",
   "pygments_lexer": "ipython3",
   "version": "3.7.4"
  }
 },
 "nbformat": 4,
 "nbformat_minor": 2
}
