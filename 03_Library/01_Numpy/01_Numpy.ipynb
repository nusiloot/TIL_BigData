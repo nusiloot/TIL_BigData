{
 "cells": [
  {
   "cell_type": "markdown",
   "metadata": {},
   "source": [
    "# 1. Numpy의 개요, 배열 생성(1)"
   ]
  },
  {
   "cell_type": "markdown",
   "metadata": {},
   "source": [
    "## (1) Numpy 개요\n",
    "\n",
    "- C언어로 구현된 파이썬 라이브러리\n",
    "- Numerical Python의 줄임말로 벡터 및 행렬 연산에 특화된 기능 제공\n",
    "- 아나콘다를 설치할 경우 기본적으로 NumPy 패키지를 설치함"
   ]
  },
  {
   "cell_type": "markdown",
   "metadata": {},
   "source": [
    "## (2) 배열 생성하기\n",
    "\n",
    "- 배열(Array)이란 순서가 있는 <b>같은 종류의 데이터</b>가 저장된 집합을 의미\n",
    "- Numpy를 통해 배열을 생성할 수 있음\n",
    "- import 구문을 통해 설치된 NumPy를 불러 사용함\n",
    "```python\n",
    "import numpy as np # numpy 이름이 길기 때문에 줄여서 np라고 사용함\n",
    "```"
   ]
  },
  {
   "cell_type": "markdown",
   "metadata": {},
   "source": [
    "### 1) 시퀀스 데이터로부터 배열 생성\n",
    "\n",
    "- 시퀀스 데이터를 인자로 받아 배열 객체를 생성\n",
    "- 리스트와 튜플 타입의 데이터를 사용할 수 있으나 <b>주로 리스트 데이터</b>를 이용함\n",
    "```python\n",
    "import numpy as np\n",
    "arr_object = np.array(seq_data)\n",
    "```"
   ]
  },
  {
   "cell_type": "code",
   "execution_count": null,
   "metadata": {},
   "outputs": [],
   "source": [
    "import numpy as np"
   ]
  },
  {
   "cell_type": "code",
   "execution_count": null,
   "metadata": {},
   "outputs": [],
   "source": [
    "data1 = [0, 1, 2, 3, 4, 5, 6, 7, 8]\n",
    "a1 = np.array(data1)\n",
    "a1"
   ]
  },
  {
   "cell_type": "code",
   "execution_count": null,
   "metadata": {},
   "outputs": [],
   "source": [
    "data2 = [0.1, 3, 5, 10, 0.25]\n",
    "a2 = np.array(data2)\n",
    "a2"
   ]
  },
  {
   "cell_type": "code",
   "execution_count": null,
   "metadata": {},
   "outputs": [],
   "source": [
    "a1.dtype # 데이터 타입 출력"
   ]
  },
  {
   "cell_type": "code",
   "execution_count": null,
   "metadata": {},
   "outputs": [],
   "source": [
    "a2.dtype # 데이터 타입 출력"
   ]
  },
  {
   "cell_type": "code",
   "execution_count": null,
   "metadata": {},
   "outputs": [],
   "source": [
    "np.array([0.5, 2, 6, 0.01])"
   ]
  },
  {
   "cell_type": "code",
   "execution_count": null,
   "metadata": {},
   "outputs": [],
   "source": [
    "np.array([[1, 2, 3], [4, 5, 6], [7, 8, 9]])"
   ]
  },
  {
   "cell_type": "markdown",
   "metadata": {},
   "source": [
    "### 2) 범위를 지정해 배열 생성\n",
    "\n",
    "- `arange()`를 이용하여 배열을 생성할 수 있음\n",
    "- `start`와 `stop` 문구를 이용해 범위를 지정하여 배열을 생성할 수 있음\n",
    "```python\n",
    "# stop은 미만의 값이므로 주의하자!\n",
    "# 만약 start가 0 또는 step이 1이라면 생략 가능\n",
    "arr_object = np.arange(start, stop, step)\n",
    "```\n",
    "- 시작과 끝을 정하고 데이터의 개수를 지정하여 배열을 생성할 수 있음\n",
    "```python\n",
    "# 여기서 stop은 미만이 아닌 이하의 값이다!\n",
    "arr_object = np.linspace(start, stop, num)\n",
    "```"
   ]
  },
  {
   "cell_type": "code",
   "execution_count": null,
   "metadata": {},
   "outputs": [],
   "source": [
    "np.arange(0, 10, 2)"
   ]
  },
  {
   "cell_type": "code",
   "execution_count": null,
   "metadata": {},
   "outputs": [],
   "source": [
    "np.arange(0, 10)"
   ]
  },
  {
   "cell_type": "code",
   "execution_count": null,
   "metadata": {},
   "outputs": [],
   "source": [
    "np.arange(5)"
   ]
  },
  {
   "cell_type": "markdown",
   "metadata": {},
   "source": [
    "### cf) `.reshape() `module\n",
    "- `.reshape(a, b)` : a행 b열의 행렬 형태로 출력"
   ]
  },
  {
   "cell_type": "code",
   "execution_count": null,
   "metadata": {
    "scrolled": true
   },
   "outputs": [],
   "source": [
    "np.arange(12).reshape(4, 3)"
   ]
  },
  {
   "cell_type": "code",
   "execution_count": null,
   "metadata": {},
   "outputs": [],
   "source": [
    "b1 = np.arange(12).reshape(4, 3)\n",
    "b1.shape # .shape : 어떤 형태인지 출력"
   ]
  },
  {
   "cell_type": "code",
   "execution_count": null,
   "metadata": {},
   "outputs": [],
   "source": [
    "b2 = np.arange(5)\n",
    "b2.shape # .shape : 어떤 형태인지 출력"
   ]
  },
  {
   "cell_type": "code",
   "execution_count": null,
   "metadata": {},
   "outputs": [],
   "source": [
    "np.linspace(1, 10, 10)"
   ]
  },
  {
   "cell_type": "code",
   "execution_count": null,
   "metadata": {},
   "outputs": [],
   "source": [
    "np.linspace(0, np.pi, 20)"
   ]
  }
 ],
 "metadata": {
  "kernelspec": {
   "display_name": "Python 3",
   "language": "python",
   "name": "python3"
  },
  "language_info": {
   "codemirror_mode": {
    "name": "ipython",
    "version": 3
   },
   "file_extension": ".py",
   "mimetype": "text/x-python",
   "name": "python",
   "nbconvert_exporter": "python",
   "pygments_lexer": "ipython3",
   "version": "3.7.4"
  }
 },
 "nbformat": 4,
 "nbformat_minor": 2
}
