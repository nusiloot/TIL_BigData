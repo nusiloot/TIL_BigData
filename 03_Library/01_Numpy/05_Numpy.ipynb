{
 "cells": [
  {
   "cell_type": "code",
   "execution_count": null,
   "metadata": {},
   "outputs": [],
   "source": [
    "import numpy as np"
   ]
  },
  {
   "cell_type": "markdown",
   "metadata": {},
   "source": [
    "## Question01\n",
    "\n",
    "- 5 X 6 형태의 데이터 행렬을 만들고 이 데이터에 대해 다음의 값들을 구하시오.(아래 코드를 활용)\n",
    "```python\n",
    "x = np.random.rand(5, 6)\n",
    "x = x.round(3) * 100\n",
    "```"
   ]
  },
  {
   "cell_type": "code",
   "execution_count": null,
   "metadata": {},
   "outputs": [],
   "source": [
    "x = np.random.rand(5, 6)\n",
    "x = x.round(3) * 100\n",
    "x"
   ]
  },
  {
   "cell_type": "code",
   "execution_count": null,
   "metadata": {},
   "outputs": [],
   "source": [
    "# (1) 전체의 최댓값\n",
    "x.max()"
   ]
  },
  {
   "cell_type": "code",
   "execution_count": null,
   "metadata": {},
   "outputs": [],
   "source": [
    "# (2) 전체의 최솟값\n",
    "x.min()"
   ]
  },
  {
   "cell_type": "code",
   "execution_count": null,
   "metadata": {},
   "outputs": [],
   "source": [
    "# (3) 평균\n",
    "x.mean()"
   ]
  },
  {
   "cell_type": "code",
   "execution_count": null,
   "metadata": {},
   "outputs": [],
   "source": [
    "# (4) 표준편차\n",
    "x.std()"
   ]
  },
  {
   "cell_type": "code",
   "execution_count": null,
   "metadata": {},
   "outputs": [],
   "source": [
    "# (5) 분산\n",
    "x.var()"
   ]
  },
  {
   "cell_type": "markdown",
   "metadata": {},
   "source": [
    "## Question02\n",
    "\n",
    "- 다음과 같은 행렬이 있다.\n",
    "```python\n",
    "arr1 = array([[0, 1, 2, 3, 4], [5, 6, 7, 8, 9], [10, 11, 12, 13, 14]])\n",
    "```\n",
    "위의 코드를 보고 다음 요구사항을 해결하시오."
   ]
  },
  {
   "cell_type": "code",
   "execution_count": null,
   "metadata": {},
   "outputs": [],
   "source": [
    "# (1) arr1 행렬을 생성\n",
    "arr1 = np.array([[0, 1, 2, 3, 4], [5, 6, 7, 8, 9], [10, 11, 12, 13, 14]])\n",
    "arr1"
   ]
  },
  {
   "cell_type": "code",
   "execution_count": null,
   "metadata": {},
   "outputs": [],
   "source": [
    "# (2) 행렬에서 값 7 을 인덱싱\n",
    "arr1[1, 2]"
   ]
  },
  {
   "cell_type": "code",
   "execution_count": null,
   "metadata": {},
   "outputs": [],
   "source": [
    "# (3) 행렬에서 값 14 를 인덱싱\n",
    "arr1[2, 4]"
   ]
  },
  {
   "cell_type": "code",
   "execution_count": null,
   "metadata": {},
   "outputs": [],
   "source": [
    "# (4) 행렬에서 배열 [6, 7] 을 슬라이싱\n",
    "arr1[1, 1:3]"
   ]
  },
  {
   "cell_type": "code",
   "execution_count": null,
   "metadata": {},
   "outputs": [],
   "source": [
    "# (5) 행렬에서 배열 [7, 12] 를 슬라이싱\n",
    "arr1[1:, 2:3]"
   ]
  },
  {
   "cell_type": "code",
   "execution_count": null,
   "metadata": {},
   "outputs": [],
   "source": [
    "# (6) 행렬에서 배열 [[3, 4], [8, 9]] 를 슬라이싱\n",
    "arr1[:2, 3:]"
   ]
  },
  {
   "cell_type": "markdown",
   "metadata": {},
   "source": [
    "## Question03\n",
    "\n",
    "- 1부터 30까지의 서로 다른 난수 10개씩 집합 A, B를 생성하고 이들의 교집합을 찾는 코딩함수를 만들어 보고자 한다. 다음 물음에 답하시오."
   ]
  },
  {
   "cell_type": "code",
   "execution_count": null,
   "metadata": {},
   "outputs": [],
   "source": [
    "# (1) 집합 A, B가 있을 때 집단들의 교집합을 찾는 함수 만들기\n",
    "def intersection(a, b):\n",
    "    c = []\n",
    "    for i in a:  # a에 속한 모든 요소 i에 대해서 순서대로 실행\n",
    "        if i in b:  # 만약 i가 b에 속한다면\n",
    "            c.append(i)  # c에 i를 추가\n",
    "        c.sort()\n",
    "    \n",
    "    return c"
   ]
  },
  {
   "cell_type": "code",
   "execution_count": null,
   "metadata": {},
   "outputs": [],
   "source": [
    "# (2) Low(min 값)부터 high(max 값)까지의 서로 다른 난수 how-many(개수)씩\n",
    "# 집합 A, B를 생성하는 함수 만들기\n",
    "def random_exclusive(low, high, how_many):\n",
    "    number = []  # 난수의 집합을 우선 공집합으로 만듬\n",
    "    while how_many > 0:  # n이 0보다 클 때까지\n",
    "        a = np.random.randint(low, high)  # 1부터 30까지의 난수를 만들어 a로 만들고\n",
    "        if a not in number:  # a가 number에 없으면\n",
    "            number.append(a)  # number에 a를 추가하고\n",
    "        else:\n",
    "            how_many += 1\n",
    "        how_many -= 1  # n을 1 줄인다\n",
    "    return number\n",
    "\n",
    "random_exclusive(1, 31, 10)"
   ]
  },
  {
   "cell_type": "code",
   "execution_count": null,
   "metadata": {},
   "outputs": [],
   "source": [
    "# (3) 앞에서 만든 두 함수를 활용하여 1부터 30까지의 서로 다른 난수 10개씩 집합 A, B의 교집합 ㅏㅁㄴ들기\n",
    "low, high, how_many = 1, 31, 10\n",
    "group_A = random_exclusive(low, high, how_many)\n",
    "group_B = random_exclusive(low, high, how_many)\n",
    "c = intersection(group_A, group_B)\n",
    "print(f'그룹 A의 난수 : {group_A}')\n",
    "print(f'그룹 B의 난수 : {group_B}')\n",
    "print(f'그룹 A와 그룹 B의 교집합 : {c}')"
   ]
  }
 ],
 "metadata": {
  "kernelspec": {
   "display_name": "Python 3",
   "language": "python",
   "name": "python3"
  },
  "language_info": {
   "codemirror_mode": {
    "name": "ipython",
    "version": 3
   },
   "file_extension": ".py",
   "mimetype": "text/x-python",
   "name": "python",
   "nbconvert_exporter": "python",
   "pygments_lexer": "ipython3",
   "version": "3.7.4"
  }
 },
 "nbformat": 4,
 "nbformat_minor": 2
}
