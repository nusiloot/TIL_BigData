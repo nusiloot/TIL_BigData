{
 "cells": [
  {
   "cell_type": "markdown",
   "metadata": {},
   "source": [
    "# 4. 배열의 인덱싱과 슬라이싱"
   ]
  },
  {
   "cell_type": "markdown",
   "metadata": {},
   "source": [
    "## (1) 배열의 인덱싱\n",
    "\n",
    "- 배열의 위치나 조건을 지정해 배열의 원소를 선택하는 것\n",
    "- <b>[주의!]파이썬에서 위치(인덱스) 값은 0부터 시작한다.</b>\n",
    "---\n",
    "- `배열명[위치]` : 1차원 배열에서 특정 위치의 원소 선택\n",
    "- `배열명[[위치1, 위치2, …, 위치n]]` : 1차원 배열에서 여러 원소 선택\n",
    "- `배열명[[행위치, 열위치]]` : 2차원 배열에서 특정 원소 선택\n",
    "- `배열명[[행위치1, 행위치2, …][열위치1, 열위치2, …]]` : 2차원 배열에서 여러 원소 선택\n",
    "- `배열명[조건]` : 조건을 만족하는 배열 선택\n",
    "---\n",
    "<img src=\"https://user-images.githubusercontent.com/52685250/77338081-26eab400-6d6d-11ea-9136-53f3cd4ec6e3.png\" alt=\"인덱싱, 슬라이싱 번호 찾기\" width=\"700\">"
   ]
  },
  {
   "cell_type": "code",
   "execution_count": null,
   "metadata": {},
   "outputs": [],
   "source": [
    "import numpy as np"
   ]
  },
  {
   "cell_type": "code",
   "execution_count": null,
   "metadata": {
    "scrolled": true
   },
   "outputs": [],
   "source": [
    "index1 = np.array([0, 10, 20, 30, 40, 50])\n",
    "index1"
   ]
  },
  {
   "cell_type": "code",
   "execution_count": null,
   "metadata": {},
   "outputs": [],
   "source": [
    "index1[0]"
   ]
  },
  {
   "cell_type": "code",
   "execution_count": null,
   "metadata": {},
   "outputs": [],
   "source": [
    "index1[4]"
   ]
  },
  {
   "cell_type": "code",
   "execution_count": null,
   "metadata": {},
   "outputs": [],
   "source": [
    "index1[5] = 100 # 인덱싱을 이용해서 원하는 값으로 바꿀 수 있다.\n",
    "index1"
   ]
  },
  {
   "cell_type": "code",
   "execution_count": null,
   "metadata": {},
   "outputs": [],
   "source": [
    "index1[[0, 2, 5]]"
   ]
  },
  {
   "cell_type": "code",
   "execution_count": null,
   "metadata": {},
   "outputs": [],
   "source": [
    "index2 = np.arange(10, 100, 10).reshape(3, 3)\n",
    "index2"
   ]
  },
  {
   "cell_type": "code",
   "execution_count": null,
   "metadata": {},
   "outputs": [],
   "source": [
    "index2[0, 1]"
   ]
  },
  {
   "cell_type": "code",
   "execution_count": null,
   "metadata": {},
   "outputs": [],
   "source": [
    "index2[2, 0] = 200\n",
    "index2"
   ]
  },
  {
   "cell_type": "code",
   "execution_count": null,
   "metadata": {},
   "outputs": [],
   "source": [
    "index2[1] # 두 번째 행만 추출"
   ]
  },
  {
   "cell_type": "code",
   "execution_count": null,
   "metadata": {},
   "outputs": [],
   "source": [
    "index2[0] = [55, 66, 77] # 첫 번째 행 전체를 바꾸기\n",
    "index2"
   ]
  },
  {
   "cell_type": "code",
   "execution_count": null,
   "metadata": {},
   "outputs": [],
   "source": [
    "index2[[0, 2], [0, 1]]\n",
    "# 첫 번째 행과 첫 번째 열에 있는 데이터가 먼저, 세 번째 행과 두 번째 열에 있는 데이터가 뒤에 나온다."
   ]
  },
  {
   "cell_type": "code",
   "execution_count": null,
   "metadata": {},
   "outputs": [],
   "source": [
    "index2[[0, 2, 2], [0, 1, 2]]"
   ]
  },
  {
   "cell_type": "code",
   "execution_count": null,
   "metadata": {},
   "outputs": [],
   "source": [
    "index = np.array([1, 2, 3, 4, 5, 6])"
   ]
  },
  {
   "cell_type": "code",
   "execution_count": null,
   "metadata": {},
   "outputs": [],
   "source": [
    "index[index > 3] # 원소가 3 보다 큰 것들만 뽑아서 출력"
   ]
  },
  {
   "cell_type": "code",
   "execution_count": null,
   "metadata": {},
   "outputs": [],
   "source": [
    "index[(index % 2) == 0]"
   ]
  },
  {
   "cell_type": "markdown",
   "metadata": {},
   "source": [
    "## (2) 배열의 슬라이싱\n",
    "\n",
    "- 범위를 지정해 배열의 일부분을 선택하는 방법\n",
    "- 인덱싱과 다르게 슬라이싱은 시작점부터 끝점까지에 있는 데이터들을 선택할 때 사용된다.\n",
    "---\n",
    "- `배열명[시작위치:끝위치]` : 1차원배열, 시작위치 미 지정 시 0부터 시작\n",
    "- `배열명[행시작위치:행끝위치, 열시작위치:열끝위치]` : 2차원 배열에서 범위로 선택\n",
    "- `배열명[[행위치], [열시작위치:열끝위치]]` : 특정 행 선택 후 열 슬라이싱"
   ]
  },
  {
   "cell_type": "code",
   "execution_count": null,
   "metadata": {},
   "outputs": [],
   "source": [
    "slice1 = np.array([0, 10, 20, 30, 40, 50])"
   ]
  },
  {
   "cell_type": "code",
   "execution_count": null,
   "metadata": {},
   "outputs": [],
   "source": [
    "slice1[1:4]"
   ]
  },
  {
   "cell_type": "code",
   "execution_count": null,
   "metadata": {},
   "outputs": [],
   "source": [
    "slice1[:3]"
   ]
  },
  {
   "cell_type": "code",
   "execution_count": null,
   "metadata": {},
   "outputs": [],
   "source": [
    "slice1[2:]"
   ]
  },
  {
   "cell_type": "code",
   "execution_count": null,
   "metadata": {},
   "outputs": [],
   "source": [
    "slice1[2:5] = [n for n in range(25, 55, 10)]\n",
    "slice1"
   ]
  },
  {
   "cell_type": "code",
   "execution_count": null,
   "metadata": {},
   "outputs": [],
   "source": [
    "slice1[2:5] = 45"
   ]
  },
  {
   "cell_type": "code",
   "execution_count": null,
   "metadata": {},
   "outputs": [],
   "source": [
    "slice2 = np.arange(10, 100, 10).reshape(3, 3)\n",
    "slice2"
   ]
  },
  {
   "cell_type": "code",
   "execution_count": null,
   "metadata": {},
   "outputs": [],
   "source": [
    "slice2[1:3, 1:3]"
   ]
  },
  {
   "cell_type": "code",
   "execution_count": null,
   "metadata": {},
   "outputs": [],
   "source": [
    "slice2[:3, 1:]"
   ]
  },
  {
   "cell_type": "code",
   "execution_count": null,
   "metadata": {},
   "outputs": [],
   "source": [
    "slice2[0:2, 1:3] = np.array([[25, 35], [55, 75]])\n",
    "slice2"
   ]
  }
 ],
 "metadata": {
  "kernelspec": {
   "display_name": "Python 3",
   "language": "python",
   "name": "python3"
  },
  "language_info": {
   "codemirror_mode": {
    "name": "ipython",
    "version": 3
   },
   "file_extension": ".py",
   "mimetype": "text/x-python",
   "name": "python",
   "nbconvert_exporter": "python",
   "pygments_lexer": "ipython3",
   "version": "3.7.4"
  }
 },
 "nbformat": 4,
 "nbformat_minor": 2
}
