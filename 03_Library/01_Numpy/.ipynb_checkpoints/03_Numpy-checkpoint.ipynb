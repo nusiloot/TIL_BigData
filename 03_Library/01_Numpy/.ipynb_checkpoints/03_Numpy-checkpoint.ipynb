{
 "cells": [
  {
   "cell_type": "markdown",
   "metadata": {},
   "source": [
    "# 3. 배열 연산"
   ]
  },
  {
   "cell_type": "markdown",
   "metadata": {},
   "source": [
    "## (1) 기본 연산\n",
    "\n",
    "- 배열의 형태가 같은 경우 덧셈, 뺄셈, 곱셈, 나눗셈 연산이 가능\n",
    "\n",
    "| <center>기호</center> | <center>내용</center> |\n",
    "|------|------|\n",
    "| <center>+</center> | <center>더하기</center> |\n",
    "| <center>-</center> | <center>빼기</center> |\n",
    "| <center>*</center> | <center>곱셈</center> |\n",
    "| <center>**</center> | <center>거듭제곱</center> |\n",
    "| <center>/</center> | <center>나누기</center> |\n",
    "| <center> >, <, >=, <= </center> | <center>비교연산자</center> |"
   ]
  },
  {
   "cell_type": "code",
   "execution_count": null,
   "metadata": {},
   "outputs": [],
   "source": [
    "import numpy as np"
   ]
  },
  {
   "cell_type": "code",
   "execution_count": null,
   "metadata": {},
   "outputs": [],
   "source": [
    "arr1 = np.array([10, 20, 30, 40])\n",
    "arr2 = np.array([1, 2, 3, 4])"
   ]
  },
  {
   "cell_type": "code",
   "execution_count": null,
   "metadata": {},
   "outputs": [],
   "source": [
    "arr1 + arr2"
   ]
  },
  {
   "cell_type": "code",
   "execution_count": null,
   "metadata": {},
   "outputs": [],
   "source": [
    "arr1 - arr2"
   ]
  },
  {
   "cell_type": "code",
   "execution_count": null,
   "metadata": {},
   "outputs": [],
   "source": [
    "arr2 * 2"
   ]
  },
  {
   "cell_type": "code",
   "execution_count": null,
   "metadata": {},
   "outputs": [],
   "source": [
    "arr2 ** 2"
   ]
  },
  {
   "cell_type": "code",
   "execution_count": null,
   "metadata": {},
   "outputs": [],
   "source": [
    "arr1 * arr2"
   ]
  },
  {
   "cell_type": "code",
   "execution_count": null,
   "metadata": {},
   "outputs": [],
   "source": [
    "arr1 / arr2 # 나누기 연산은 결과가 float 형으로 바뀜"
   ]
  },
  {
   "cell_type": "code",
   "execution_count": null,
   "metadata": {},
   "outputs": [],
   "source": [
    "arr1 / (arr2 ** 2)"
   ]
  },
  {
   "cell_type": "code",
   "execution_count": null,
   "metadata": {},
   "outputs": [],
   "source": [
    "# 조건을 적용했을 때 각 원소가 해당 조건에 만족하면 True,\n",
    "# 만족하지 않으면 False를 반환하는 배열을 만들 수 있다.\n",
    "arr1 > 20"
   ]
  },
  {
   "cell_type": "markdown",
   "metadata": {},
   "source": [
    "## (2) 통계를 위한 연산\n",
    "\n",
    "- 배열의 합, 평균, 표준편차, 분산, 최솟값, 최댓값, 누적합, 누적곱 등\n",
    "\n",
    "| <center>메서드</center> | <center>내용</center> |\n",
    "|------|------|\n",
    "| <center>sum()</center> | <center>합</center> |\n",
    "| <center>mean()</center> | <center>평균</center> |\n",
    "| <center>std()</center> | <center>표준편차</center> |\n",
    "| <center>var()</center> | <center>분산</center> |\n",
    "| <center>min()</center> | <center>최솟값</center> |\n",
    "| <center>max()</center> | <center>최댓값</center> |\n",
    "| <center>cumsum()</center> | <center>누적합</center> |\n",
    "| <center>cumprod()</center> | <center>누적곱</center> |"
   ]
  },
  {
   "cell_type": "code",
   "execution_count": null,
   "metadata": {},
   "outputs": [],
   "source": [
    "arr3 = np.arange(5)\n",
    "arr3"
   ]
  },
  {
   "cell_type": "code",
   "execution_count": null,
   "metadata": {},
   "outputs": [],
   "source": [
    "print(f'합 연산 : {arr3.sum()}')\n",
    "print(f'평균 연산 : {arr3.mean()}')"
   ]
  },
  {
   "cell_type": "code",
   "execution_count": null,
   "metadata": {},
   "outputs": [],
   "source": [
    "print(f'표준편차 연산 : {arr3.std()}')\n",
    "print(f'분산 연산 : {arr3.var()}')"
   ]
  },
  {
   "cell_type": "markdown",
   "metadata": {},
   "source": [
    "<b>cf) 표준편차 = $\\sqrt {분산}$</b>"
   ]
  },
  {
   "cell_type": "code",
   "execution_count": null,
   "metadata": {},
   "outputs": [],
   "source": [
    "var_value = 2.0\n",
    "std_value = (var_value) ** (1/2)\n",
    "print(std_value)\n",
    "print(arr3.std() == std_value)"
   ]
  },
  {
   "cell_type": "code",
   "execution_count": null,
   "metadata": {},
   "outputs": [],
   "source": [
    "print(f'최솟값 연산 : {arr3.min()}')\n",
    "print(f'최댓값 연산 : {arr3.max()}')"
   ]
  },
  {
   "cell_type": "code",
   "execution_count": null,
   "metadata": {},
   "outputs": [],
   "source": [
    "print(f'누적합 연산 : {arr3.cumsum()}')\n",
    "print(f'누적곱 연산 : {arr3.cumprod()}')"
   ]
  },
  {
   "cell_type": "markdown",
   "metadata": {},
   "source": [
    "## (3) 행렬 연산\n",
    "\n",
    "- 단순 연산 뿐만 아니라 선형대수를 위한 행렬 연산도 지원함\n",
    "- 더하기, 빼기 연산은 사칙 연산 하듯이 사용하면 된다.\n",
    "- <b>[주의!]행렬 곱을 수행할 때 앞의 행렬의 행의 수와 뒤의 행렬의 열의 수가 같아야 한다!</b>\n",
    "- <b>[주의!]행렬 곱셈은 곱하는 순서에 따라 결과가 달라질 수 있다.</b>\n",
    "\n",
    "| <center>사용 예</center> | <center>내용</center> |\n",
    "|------|------|\n",
    "| <center>A.dot(B), or np.dot(A, B)</center> | <center>행렬 곱(matrix product)</center> |\n",
    "| <center>A.transpose(), or np.transpose()</center> | <center>전치행렬(transpose matrix)</center> |\n",
    "| <center>np.linalg.inv(A)</center> | <center>역행렬(inverse matrix)</center> |\n",
    "| <center>np.linalg.det(A)</center> | <center>행렬식(determinant)</center> |"
   ]
  },
  {
   "cell_type": "code",
   "execution_count": null,
   "metadata": {},
   "outputs": [],
   "source": [
    "A = np.array([1, 2, 3, 4]).reshape(2, 2)\n",
    "A"
   ]
  },
  {
   "cell_type": "code",
   "execution_count": null,
   "metadata": {},
   "outputs": [],
   "source": [
    "B = np.array([9, 8, 7, 6]).reshape(2, 2)\n",
    "B"
   ]
  },
  {
   "cell_type": "code",
   "execution_count": null,
   "metadata": {},
   "outputs": [],
   "source": [
    "A + B"
   ]
  },
  {
   "cell_type": "code",
   "execution_count": null,
   "metadata": {},
   "outputs": [],
   "source": [
    "B - A"
   ]
  },
  {
   "cell_type": "code",
   "execution_count": null,
   "metadata": {},
   "outputs": [],
   "source": [
    "A.dot(B)"
   ]
  },
  {
   "cell_type": "code",
   "execution_count": null,
   "metadata": {},
   "outputs": [],
   "source": [
    "np.dot(A, B)"
   ]
  },
  {
   "cell_type": "code",
   "execution_count": null,
   "metadata": {},
   "outputs": [],
   "source": [
    "np.dot(B, A)"
   ]
  },
  {
   "cell_type": "code",
   "execution_count": null,
   "metadata": {},
   "outputs": [],
   "source": [
    "np.transpose(A)"
   ]
  },
  {
   "cell_type": "code",
   "execution_count": null,
   "metadata": {},
   "outputs": [],
   "source": [
    "np.linalg.inv(A)"
   ]
  },
  {
   "cell_type": "code",
   "execution_count": null,
   "metadata": {},
   "outputs": [],
   "source": [
    "np.linalg.det(B)"
   ]
  }
 ],
 "metadata": {
  "kernelspec": {
   "display_name": "Python 3",
   "language": "python",
   "name": "python3"
  },
  "language_info": {
   "codemirror_mode": {
    "name": "ipython",
    "version": 3
   },
   "file_extension": ".py",
   "mimetype": "text/x-python",
   "name": "python",
   "nbconvert_exporter": "python",
   "pygments_lexer": "ipython3",
   "version": "3.7.4"
  }
 },
 "nbformat": 4,
 "nbformat_minor": 2
}
