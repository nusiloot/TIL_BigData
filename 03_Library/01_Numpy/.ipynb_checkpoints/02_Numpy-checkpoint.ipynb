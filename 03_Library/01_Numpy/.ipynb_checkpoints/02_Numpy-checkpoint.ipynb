{
 "cells": [
  {
   "cell_type": "markdown",
   "metadata": {},
   "source": [
    "# 2. NumPy 배열 생성(2)"
   ]
  },
  {
   "cell_type": "markdown",
   "metadata": {},
   "source": [
    "### 3) 특별한 형태의 배열 생성\n",
    "- `zeros()`와 `ones()`를 이용하여 0이나 1인 다차원 배열 생성 가능\n",
    "- 1차원 배열의 경우 n을, 다차원 배열인 경우 m x n 형태로 생성\n",
    "```python\n",
    "arr_zero_1 = np.zeros(n)\n",
    "arr_zero_2 = np.zeros((m, n))\n",
    "arr_one_1 = np.ones(n)\n",
    "arr_one_2 = np.ones((m, n))\n",
    "```\n",
    "- 단위 행렬의 경우에는 `eye()`를 이용하여 사용한다.\n",
    "    - 단위 행렬이란 좌측 상단에서 시작해서 우측 하단으로 이어지는 대각선이 1, 나머지는 0인 행렬을 말한다.\n",
    "```python\n",
    "arr_eye = np.eye(n)\n",
    "```"
   ]
  },
  {
   "cell_type": "code",
   "execution_count": null,
   "metadata": {},
   "outputs": [],
   "source": [
    "import numpy as np"
   ]
  },
  {
   "cell_type": "code",
   "execution_count": null,
   "metadata": {},
   "outputs": [],
   "source": [
    "np.zeros(10)"
   ]
  },
  {
   "cell_type": "code",
   "execution_count": null,
   "metadata": {},
   "outputs": [],
   "source": [
    "np.zeros((3, 4))"
   ]
  },
  {
   "cell_type": "code",
   "execution_count": null,
   "metadata": {},
   "outputs": [],
   "source": [
    "np.ones(10)"
   ]
  },
  {
   "cell_type": "code",
   "execution_count": null,
   "metadata": {},
   "outputs": [],
   "source": [
    "np.ones((3, 3))"
   ]
  },
  {
   "cell_type": "code",
   "execution_count": null,
   "metadata": {},
   "outputs": [],
   "source": [
    "np.eye(3)"
   ]
  },
  {
   "cell_type": "markdown",
   "metadata": {},
   "source": [
    "### 4) 배열의 데이터 타입 변환\n",
    "\n",
    "- 숫자뿐만 아닌 문자의 배열을 생성할 수 있음\n",
    "\n",
    "| <center>기호</center> | <center>내용</center> |\n",
    "|------|------|\n",
    "| <center>b</center> | <center>불, bool</center> |\n",
    "| <center>i</center> | <center>기호가 있는 정수</center> |\n",
    "| <center>u</center> | <center>기호가 없는 정수</center> |\n",
    "| <center>f</center> | <center>실수</center> |\n",
    "| <center>c</center> | <center>복소수</center> |\n",
    "| <center>M</center> | <center>날짜</center> |\n",
    "| <center>O</center> | <center>파이썬 객체</center> |\n",
    "| <center>S 혹은 a</center> | <center>바이트 문자열</center> |\n",
    "| <center>U</center> | <center>유니코드</center> |\n",
    "\n",
    "```python\n",
    "num_arr = str_arr.astype(dtype)\n",
    "```\n",
    "\n",
    "- cf) `dtype` : 배열의 데이터 타입을 설정하기 위해 사용하는 키워드"
   ]
  },
  {
   "cell_type": "code",
   "execution_count": null,
   "metadata": {},
   "outputs": [],
   "source": [
    "np.array(['0.5', '0.24', '2', '3.14', '3.141592'])\n",
    "# dtype='<U8' : 데이터 타입이 유니콛, 8자리(최대)로 되어있다는 의미"
   ]
  },
  {
   "cell_type": "code",
   "execution_count": null,
   "metadata": {},
   "outputs": [],
   "source": [
    "str_1 = np.array(['0.5', '0.24', '2', '3.14', '3.141592'])\n",
    "num_1 = str_1.astype(float) # float 형(실수형)으로 변환\n",
    "num_1"
   ]
  },
  {
   "cell_type": "code",
   "execution_count": null,
   "metadata": {},
   "outputs": [],
   "source": [
    "str_1.dtype"
   ]
  },
  {
   "cell_type": "code",
   "execution_count": null,
   "metadata": {},
   "outputs": [],
   "source": [
    "num_1.dtype"
   ]
  },
  {
   "cell_type": "code",
   "execution_count": null,
   "metadata": {},
   "outputs": [],
   "source": [
    "str_2 = np.array(['1', '2', '3', '4', '5'])\n",
    "num_2 = str_2.astype(int) # int 형(정수형)으로 변환\n",
    "num_2"
   ]
  },
  {
   "cell_type": "code",
   "execution_count": null,
   "metadata": {},
   "outputs": [],
   "source": [
    "str_2.dtype"
   ]
  },
  {
   "cell_type": "code",
   "execution_count": null,
   "metadata": {},
   "outputs": [],
   "source": [
    "num_2.dtype # dtype('int32') : 32비트 정수형"
   ]
  },
  {
   "cell_type": "code",
   "execution_count": null,
   "metadata": {},
   "outputs": [],
   "source": [
    "num_f3 = np.array([10, 20, 0.543, 5.67, 9.87])\n",
    "num_i3 = num_f3.astype(int) # float 형 => int 형으로 변환\n",
    "num_i3"
   ]
  },
  {
   "cell_type": "code",
   "execution_count": null,
   "metadata": {},
   "outputs": [],
   "source": [
    "num_f3.dtype"
   ]
  },
  {
   "cell_type": "code",
   "execution_count": null,
   "metadata": {},
   "outputs": [],
   "source": [
    "num_i3.dtype"
   ]
  },
  {
   "cell_type": "markdown",
   "metadata": {},
   "source": [
    "### 5) 난수 배열의 생성\n",
    "\n",
    "- `random` 모듈을 이용해 난수 생성\n",
    "```python\n",
    "rand_num = np.random.rand([d0, d1, … , dn])\n",
    "rand_num = np.random.randint(low, high, size)\n",
    "# low 부터 high 사이의 숫자 중에서 size 만큼의 행렬(또는 다차원 배열)을 만들어라\n",
    "```"
   ]
  },
  {
   "cell_type": "code",
   "execution_count": null,
   "metadata": {},
   "outputs": [],
   "source": [
    "np.random.rand(2, 3)"
   ]
  },
  {
   "cell_type": "code",
   "execution_count": null,
   "metadata": {},
   "outputs": [],
   "source": [
    "np.random.rand() # 0 부터 1 사이 중 랜덤 값 하나를 생성"
   ]
  },
  {
   "cell_type": "code",
   "execution_count": null,
   "metadata": {},
   "outputs": [],
   "source": [
    "np.random.rand(4) # 랜덤 값 4개를 배열 형태로 생성"
   ]
  },
  {
   "cell_type": "code",
   "execution_count": null,
   "metadata": {},
   "outputs": [],
   "source": [
    "np.random.rand(2, 3, 4) # 3 X 4 행렬을 2 개 만듬"
   ]
  },
  {
   "cell_type": "code",
   "execution_count": null,
   "metadata": {},
   "outputs": [],
   "source": [
    "# 10 미만의 숫자들 중 랜덤하게 뽑아 4 X 4 행렬 만듬\n",
    "np.random.randint(10, size=(4, 4))"
   ]
  },
  {
   "cell_type": "code",
   "execution_count": null,
   "metadata": {},
   "outputs": [],
   "source": [
    "np.random.randint(1, 40) # 1 부터 40 미만 사이 중 랜덤하게 하나 뽑기"
   ]
  }
 ],
 "metadata": {
  "kernelspec": {
   "display_name": "Python 3",
   "language": "python",
   "name": "python3"
  },
  "language_info": {
   "codemirror_mode": {
    "name": "ipython",
    "version": 3
   },
   "file_extension": ".py",
   "mimetype": "text/x-python",
   "name": "python",
   "nbconvert_exporter": "python",
   "pygments_lexer": "ipython3",
   "version": "3.7.4"
  }
 },
 "nbformat": 4,
 "nbformat_minor": 2
}
